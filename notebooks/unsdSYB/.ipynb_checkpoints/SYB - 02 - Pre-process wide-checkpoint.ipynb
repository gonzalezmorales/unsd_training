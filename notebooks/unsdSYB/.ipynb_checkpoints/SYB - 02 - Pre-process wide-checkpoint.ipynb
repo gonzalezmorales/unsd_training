{
 "cells": [
  {
   "cell_type": "markdown",
   "metadata": {},
   "source": [
    "# Pre-processing script 2\n",
    "- pivot into \"wide\" format"
   ]
  },
  {
   "cell_type": "markdown",
   "metadata": {},
   "source": [
    "### Load necessary libraries"
   ]
  },
  {
   "cell_type": "code",
   "execution_count": 1,
   "metadata": {},
   "outputs": [],
   "source": [
    "import csv\n",
    "import json\n",
    "import urllib3  # allows to access a URL with python\n",
    "import math\n",
    "import os\n",
    "import io\n",
    "import collections\n",
    "import hashlib\n",
    "import numpy as np\n",
    "import pandas as pd\n",
    "import re\n",
    "import xlsxwriter\n",
    "\n",
    "# https://volderette.de/jupyter-notebook-tip-multiple-outputs/\n",
    "from IPython.core.interactiveshell import InteractiveShell\n",
    "InteractiveShell.ast_node_interactivity = \"all\"\n"
   ]
  },
  {
   "cell_type": "markdown",
   "metadata": {},
   "source": [
    "### User parameters"
   ]
  },
  {
   "cell_type": "code",
   "execution_count": 2,
   "metadata": {},
   "outputs": [
    {
     "name": "stdout",
     "output_type": "stream",
     "text": [
      "C:\\Users\\L.GonzalezMorales\\Documents\\GitHub\\FIS4SDGs\\notebooks\\unsdSYB\n",
      "data inputs dir: ../../data/unsd/UNSYB/input/\n",
      "outputs dir: ../../data/unsd/UNSYB/output/\n"
     ]
    }
   ],
   "source": [
    "\n",
    "dir_path = os.path.dirname(os.path.realpath('__file__'))\n",
    "print(dir_path)\n",
    "\n",
    "data_dir = r'../../data/unsd/UNSYB/input/'\n",
    "print('data inputs dir: ' + data_dir)\n",
    "\n",
    "output_dir = r'../../data/unsd/UNSYB/output/'\n",
    "print('outputs dir: ' + output_dir)\n",
    "\n"
   ]
  },
  {
   "cell_type": "markdown",
   "metadata": {},
   "source": [
    "## Utilities"
   ]
  },
  {
   "cell_type": "markdown",
   "metadata": {},
   "source": [
    "#### Convert string to camelCase"
   ]
  },
  {
   "cell_type": "code",
   "execution_count": 3,
   "metadata": {},
   "outputs": [],
   "source": [
    "def camelCase(st):\n",
    "    \"\"\"\n",
    "    https://stackoverflow.com/questions/8347048/camelcase-every-string-any-standard-library\n",
    "    \n",
    "    \"\"\"\n",
    "    output = ''.join(x for x in st.title() if x.isalnum())\n",
    "    return output[0].lower() + output[1:]"
   ]
  },
  {
   "cell_type": "markdown",
   "metadata": {},
   "source": [
    "#### Disable insecure request warnings when using `urllib3`."
   ]
  },
  {
   "cell_type": "code",
   "execution_count": 4,
   "metadata": {},
   "outputs": [],
   "source": [
    "urllib3.disable_warnings(urllib3.exceptions.InsecureRequestWarning)"
   ]
  },
  {
   "cell_type": "markdown",
   "metadata": {},
   "source": [
    "#### Regular expression to capture numeric values (including those in scientific notation)\n",
    "The regex is\n",
    "\n",
    "```\n",
    "-?      # an optional -\n",
    "\\d+     # a series of digits\n",
    "(?:     # start non capturing group\n",
    "  \\.    # a dot\n",
    "  \\d+   # a series of digits\n",
    ")?      \n",
    "(?:     # start non capturing group\n",
    "  e     # \"e\"\n",
    "  -?    # an optional -\n",
    "  \\d+   # digits\n",
    ")?\n",
    "```\n"
   ]
  },
  {
   "cell_type": "code",
   "execution_count": 5,
   "metadata": {},
   "outputs": [],
   "source": [
    "def numeric_part(v):\n",
    "    numeric_part_f = re.compile(r'-?\\d+(?:\\.\\d+)?(?:e-?\\d+)?')\n",
    "    x = numeric_part_f.findall(v)\n",
    "    if len(x) > 0:\n",
    "        return float(x[0])\n",
    "    else:\n",
    "        return None\n"
   ]
  },
  {
   "cell_type": "markdown",
   "metadata": {},
   "source": [
    "#### Return empty string if None"
   ]
  },
  {
   "cell_type": "code",
   "execution_count": 6,
   "metadata": {},
   "outputs": [],
   "source": [
    "def xstr(s):\n",
    "    if s is None:\n",
    "        return ''\n",
    "    return str(s)"
   ]
  },
  {
   "cell_type": "markdown",
   "metadata": {},
   "source": [
    "#### Compute a hash of a dictionary"
   ]
  },
  {
   "cell_type": "code",
   "execution_count": 7,
   "metadata": {},
   "outputs": [],
   "source": [
    "def dict_hash(d):\n",
    "    out = hashlib.md5()\n",
    "    for key, value in d.items():\n",
    "        out.update(key.encode('utf-8'))\n",
    "        out.update(str(value).encode('utf-8'))\n",
    "    return out.hexdigest()\n"
   ]
  },
  {
   "cell_type": "markdown",
   "metadata": {},
   "source": [
    "#### Get unique dictionaries in a list"
   ]
  },
  {
   "cell_type": "code",
   "execution_count": 8,
   "metadata": {},
   "outputs": [],
   "source": [
    "def unique_dicts(dictionary_list):\n",
    "\n",
    "    uniques_map = {}\n",
    "\n",
    "    for d in dictionary_list:\n",
    "        uniques_map[dict_hash(d)] = d\n",
    "\n",
    "    return list(uniques_map.values())\n"
   ]
  },
  {
   "cell_type": "markdown",
   "metadata": {},
   "source": [
    "#### Extract subset of key-value pairs from Python dictionary object"
   ]
  },
  {
   "cell_type": "code",
   "execution_count": 9,
   "metadata": {},
   "outputs": [],
   "source": [
    "def subdict_list(dict_list, keys_list, exclude = False):\n",
    "    sub_d_list = []\n",
    "    if exclude:\n",
    "        for d in dict_list:\n",
    "            sub_d= {k: d[k] for k in d.keys() if k not in keys_list}\n",
    "            sub_d_list.append(sub_d)\n",
    "    else:\n",
    "        for d in dict_list:\n",
    "            if set(keys_list) <= set(d.keys()):\n",
    "                sub_d= {k: d[k] for k in keys_list}\n",
    "                sub_d_list.append(sub_d)\n",
    "    \n",
    "    return sub_d_list\n",
    "\n",
    "\n"
   ]
  },
  {
   "cell_type": "markdown",
   "metadata": {},
   "source": [
    "#### Get a dict from a list based on something inside the dict"
   ]
  },
  {
   "cell_type": "code",
   "execution_count": 10,
   "metadata": {},
   "outputs": [],
   "source": [
    "def select_dict(dict_list, k, v):\n",
    "    selected = []\n",
    "    for d in dict_list:\n",
    "        if k in set(d.keys()):\n",
    "            if d[k] == v:\n",
    "                selected.append(d)\n",
    "    return selected"
   ]
  },
  {
   "cell_type": "markdown",
   "metadata": {},
   "source": [
    "#### Find the coverage of an (unordered) list of years"
   ]
  },
  {
   "cell_type": "code",
   "execution_count": 11,
   "metadata": {},
   "outputs": [],
   "source": [
    "def year_intervals (years_list):\n",
    "    \"\"\" Find the coverage of an ordered list of years\"\"\"\n",
    "    \n",
    "    years_list = list(map(int, years_list))\n",
    "    \n",
    "    years_list.sort()\n",
    "    \n",
    "    n = len(years_list)\n",
    "    \n",
    "    start_y = list()\n",
    "    end_y = list()\n",
    "    \n",
    "    start_y.append(years_list[0])\n",
    "    \n",
    "    if n > 1:\n",
    "        for i in range(n-1):\n",
    "            if(years_list[i+1] - years_list[i]>1):\n",
    "                start_y.append(years_list[i+1])\n",
    "                end_y.append(years_list[i])\n",
    "    \n",
    "    end_y.append(years_list[n-1])\n",
    "    \n",
    "    interval_yy = list()\n",
    "    \n",
    "    for i in range(len(start_y)):\n",
    "\n",
    "        if  end_y[i] - start_y[i]> 0 :\n",
    "            interval_yy.append(str(start_y[i]) + '-' + str(end_y[i]))\n",
    "        else:\n",
    "            interval_yy.append(str(start_y[i]))\n",
    "\n",
    "    \n",
    "    x = \",\".join(interval_yy)\n",
    "    return(x)\n"
   ]
  },
  {
   "cell_type": "code",
   "execution_count": 12,
   "metadata": {},
   "outputs": [
    {
     "data": {
      "text/plain": [
       "'1995-1996,2000-2004'"
      ]
     },
     "execution_count": 12,
     "metadata": {},
     "output_type": "execute_result"
    },
    {
     "data": {
      "text/plain": [
       "'1995'"
      ]
     },
     "execution_count": 12,
     "metadata": {},
     "output_type": "execute_result"
    },
    {
     "data": {
      "text/plain": [
       "'2000,2004'"
      ]
     },
     "execution_count": 12,
     "metadata": {},
     "output_type": "execute_result"
    }
   ],
   "source": [
    "year_intervals(['1995','2000', '1996', '2001','2002','2003','2004'])\n",
    "year_intervals(['1995'])\n",
    "year_intervals(['2000','2004'])"
   ]
  },
  {
   "cell_type": "markdown",
   "metadata": {},
   "source": [
    "### Read data file"
   ]
  },
  {
   "cell_type": "code",
   "execution_count": 13,
   "metadata": {},
   "outputs": [],
   "source": [
    "topic = '02'\n",
    "table = '008'\n",
    "series = 'SYB011'\n",
    "\n",
    "file = 'Topic'+topic+'_Table'+table+'_Series'+series+'.json'\n",
    "\n",
    "with open(output_dir + file) as json_file:  \n",
    "    data = json.load(json_file)"
   ]
  },
  {
   "cell_type": "code",
   "execution_count": 14,
   "metadata": {},
   "outputs": [],
   "source": [
    "def read_data_file(topic, table, series, dir_path):\n",
    "    file = 'Topic'+topic+'_Table'+table+'_Series'+series+'.json'\n",
    "    with open(dir_path + file) as json_file:  \n",
    "        data = json.load(json_file)\n",
    "    return data"
   ]
  },
  {
   "cell_type": "code",
   "execution_count": 15,
   "metadata": {},
   "outputs": [
    {
     "data": {
      "text/plain": [
       "dict_keys(['topicId', 'topicNameEN', 'topicNameFR', 'tableCode', 'tableId', 'tableName', 'tableStatusId', 'tbBkCode', 'tbBkPrint', 'newSeriesName', 'SELECT', 'seriesCode', 'SYB_series', 'sources', 'footnotes', 'refAreas'])"
      ]
     },
     "execution_count": 15,
     "metadata": {},
     "output_type": "execute_result"
    }
   ],
   "source": [
    "data = read_data_file(topic = '02', table = '008', series = 'SYB011', dir_path = output_dir)\n",
    "data.keys()\n",
    "\n",
    "data_header = {k: data[k] for k in data.keys() if k in ['topicId', 'topicNameEN', 'topicNameFR',\n",
    "                                          'tableCode', 'tableId', 'tableName', 'tableStatusId', 'tbBkCode', 'tbBkPrint', \n",
    "                                          'newSeriesName', 'SELECT', 'seriesCode', 'SYB_series']}\n",
    "\n",
    "data_sources = data['sources']\n",
    "\n",
    "data_footnotes = data['footnotes']\n",
    "\n"
   ]
  },
  {
   "cell_type": "code",
   "execution_count": 16,
   "metadata": {},
   "outputs": [
    {
     "data": {
      "text/plain": [
       "{'topicId': 2,\n",
       " 'topicNameEN': 'Population and migration',\n",
       " 'topicNameFR': 'Population et migration',\n",
       " 'tableCode': 'lifecbmort',\n",
       " 'tableId': 8,\n",
       " 'tableName': 'Population growth and indicators of fertility and mortality',\n",
       " 'tableStatusId': 3,\n",
       " 'tbBkCode': 'X03 ',\n",
       " 'tbBkPrint': 'Y',\n",
       " 'newSeriesName': 'Infant mortality ratio',\n",
       " 'SELECT': None,\n",
       " 'seriesCode': 'SYB011',\n",
       " 'SYB_series': [253]}"
      ]
     },
     "execution_count": 16,
     "metadata": {},
     "output_type": "execute_result"
    },
    {
     "data": {
      "text/plain": [
       "{'sourceCode': 'UNSD_DYB',\n",
       " 'sourceId': 35,\n",
       " 'sourceNameEN': 'United Nations Statistics Division, New York, \"Demographic Yearbook 2015\" and the demographic statistics database, last accessed June 2017.',\n",
       " 'sourceNameFR': 'Organisation des Nations Unies, Division de statistique, New York, Annuaire démographique 2015 et recueil de statistiques démographiques, denier accès juin 2017.'}"
      ]
     },
     "execution_count": 16,
     "metadata": {},
     "output_type": "execute_result"
    },
    {
     "data": {
      "text/plain": [
       "{'footnoteId': 1443,\n",
       " 'footnoteCode': 'incuneastjerusalem',\n",
       " 'footnoteTextEN': 'Including East Jerusalem.',\n",
       " 'footnoteTextFR': 'Y compris Jérusalem-Est.'}"
      ]
     },
     "execution_count": 16,
     "metadata": {},
     "output_type": "execute_result"
    }
   ],
   "source": [
    "data_header\n",
    "\n",
    "data_sources[0]\n",
    "data_footnotes[0]"
   ]
  },
  {
   "cell_type": "markdown",
   "metadata": {},
   "source": [
    "### List of countries to be plotted on a map (with XY coordinates)"
   ]
  },
  {
   "cell_type": "code",
   "execution_count": 17,
   "metadata": {},
   "outputs": [],
   "source": [
    "def countryListXY(file):\n",
    "    \n",
    "    countryListXY = []\n",
    "    \n",
    "    with open(file, newline = '', encoding='latin-1') as countryList:                                                                                          \n",
    "        countryList = csv.DictReader(countryList, delimiter='\\t')\n",
    "        for row in countryList:\n",
    "            countryListXY.append(dict(row))\n",
    "            \n",
    "    countryListXY = pd.DataFrame(countryListXY).astype({'M49':'str'})\n",
    "    \n",
    "    return(countryListXY)\n",
    "\n",
    "    #print(countryListXY[1])\n",
    "    #for c in countryListXY:"
   ]
  },
  {
   "cell_type": "code",
   "execution_count": 18,
   "metadata": {},
   "outputs": [
    {
     "data": {
      "text/plain": [
       "{'Country_Profile': '1',\n",
       " 'ISO3': 'AFG',\n",
       " 'M49': '4',\n",
       " 'UN_Member': '1',\n",
       " 'X': '66.02688198',\n",
       " 'Y': '33.83160199',\n",
       " 'areaName': 'Afghanistan'}"
      ]
     },
     "execution_count": 18,
     "metadata": {},
     "output_type": "execute_result"
    }
   ],
   "source": [
    "country_dictXY = countryListXY('../../globalResources/refAreas.txt').to_dict(orient = 'records')\n",
    "country_dictXY[0]"
   ]
  },
  {
   "cell_type": "markdown",
   "metadata": {},
   "source": [
    "### Add coordinates to data file"
   ]
  },
  {
   "cell_type": "code",
   "execution_count": 19,
   "metadata": {},
   "outputs": [],
   "source": [
    "def add_coordinates (data, coordinates):\n",
    "    \n",
    "    new_data = {k: data[k] for k in data.keys() if k not in ['refAreas']}\n",
    "\n",
    "    new_data['refAreas'] = []\n",
    "\n",
    "    for g in data['refAreas']:\n",
    "\n",
    "        geo_details = {}\n",
    "\n",
    "        for k,v in g.items():\n",
    "            if k not in ['data']:\n",
    "                geo_details[k] = v\n",
    "\n",
    "\n",
    "        geo_details['countryProfile']=None\n",
    "        geo_details['ISO3'] = None\n",
    "        geo_details['UN_Member'] = None\n",
    "        geo_details['X'] = None\n",
    "        geo_details['Y'] = None\n",
    "\n",
    "        for xy in coordinates:\n",
    "\n",
    "            if xy['M49'].zfill(3) != str(g['refAreaCode']).zfill(3):\n",
    "                continue\n",
    "\n",
    "            geo_details['countryProfile']=xy['Country_Profile']\n",
    "            geo_details['ISO3'] = xy['ISO3']\n",
    "            geo_details['UN_Member'] = xy['UN_Member']\n",
    "            geo_details['X'] = xy['X']\n",
    "            geo_details['Y'] = xy['Y']\n",
    "\n",
    "        geo_details['data'] = g['data']\n",
    "\n",
    "        new_data['refAreas'].append(geo_details)\n",
    "\n",
    "    return new_data\n",
    "\n",
    "\n"
   ]
  },
  {
   "cell_type": "code",
   "execution_count": 20,
   "metadata": {},
   "outputs": [
    {
     "data": {
      "text/plain": [
       "{'topicId': 2,\n",
       " 'topicNameEN': 'Population and migration',\n",
       " 'topicNameFR': 'Population et migration',\n",
       " 'tableCode': 'lifecbmort',\n",
       " 'tableId': 8,\n",
       " 'tableName': 'Population growth and indicators of fertility and mortality',\n",
       " 'tableStatusId': 3,\n",
       " 'tbBkCode': 'X03 ',\n",
       " 'tbBkPrint': 'Y',\n",
       " 'newSeriesName': 'Infant mortality ratio',\n",
       " 'SELECT': None,\n",
       " 'seriesCode': 'SYB011',\n",
       " 'SYB_series': [253]}"
      ]
     },
     "execution_count": 20,
     "metadata": {},
     "output_type": "execute_result"
    },
    {
     "data": {
      "text/plain": [
       "{'parentRegionId': '34',\n",
       " 'parentRegion_DescEN': 'Southern Asia',\n",
       " 'refAreaType': 'Area',\n",
       " 'refAreaCode': 4,\n",
       " 'refAreaDesc': 'Afghanistan',\n",
       " 'countryProfile': '1',\n",
       " 'ISO3': 'AFG',\n",
       " 'UN_Member': '1',\n",
       " 'X': '66.02688198',\n",
       " 'Y': '33.83160199'}"
      ]
     },
     "execution_count": 20,
     "metadata": {},
     "output_type": "execute_result"
    }
   ],
   "source": [
    "data = add_coordinates(read_data_file(topic = '02', table = '008', series = 'SYB011', dir_path = output_dir),\n",
    "                       coordinates = countryListXY('../../globalResources/refAreas.txt').to_dict(orient = 'records'))\n",
    "\n",
    "\n",
    "{k: data[k] for k in data.keys() if k not in ['refAreas', 'sources', 'footnotes']}\n",
    "\n",
    "{k: data['refAreas'][2][k] for k in data['refAreas'][2].keys() if k not in ['data']}"
   ]
  },
  {
   "cell_type": "markdown",
   "metadata": {},
   "source": [
    "### Select `refAreas` that have coordinates"
   ]
  },
  {
   "cell_type": "code",
   "execution_count": 21,
   "metadata": {},
   "outputs": [],
   "source": [
    "ref_areas_publish = []\n",
    "for d in data['refAreas']:\n",
    "    if d['X'] and d['Y']:\n",
    "        ref_areas_publish.append(d)\n"
   ]
  },
  {
   "cell_type": "code",
   "execution_count": 22,
   "metadata": {},
   "outputs": [
    {
     "data": {
      "text/plain": [
       "{'parentRegionId': '34',\n",
       " 'parentRegion_DescEN': 'Southern Asia',\n",
       " 'refAreaType': 'Area',\n",
       " 'refAreaCode': 4,\n",
       " 'refAreaDesc': 'Afghanistan',\n",
       " 'countryProfile': '1',\n",
       " 'ISO3': 'AFG',\n",
       " 'UN_Member': '1',\n",
       " 'X': '66.02688198',\n",
       " 'Y': '33.83160199',\n",
       " 'data': [{'year': 2010,\n",
       "   'value': 76.725,\n",
       "   'sourceId': 35,\n",
       "   'footnoteId': [61246],\n",
       "   'units': 'Number of deaths per 1,000 live births',\n",
       "   'multiplier': 0,\n",
       "   'baseYear': None},\n",
       "  {'year': 2015,\n",
       "   'value': 68.558,\n",
       "   'sourceId': 35,\n",
       "   'footnoteId': [61246],\n",
       "   'units': 'Number of deaths per 1,000 live births',\n",
       "   'multiplier': 0,\n",
       "   'baseYear': None},\n",
       "  {'year': 1985,\n",
       "   'value': 158.868,\n",
       "   'sourceId': 35,\n",
       "   'footnoteId': [61246],\n",
       "   'units': 'Number of deaths per 1,000 live births',\n",
       "   'multiplier': 0,\n",
       "   'baseYear': None},\n",
       "  {'year': 1990,\n",
       "   'value': 133.93,\n",
       "   'sourceId': 35,\n",
       "   'footnoteId': [61246],\n",
       "   'units': 'Number of deaths per 1,000 live births',\n",
       "   'multiplier': 0,\n",
       "   'baseYear': None},\n",
       "  {'year': 1995,\n",
       "   'value': 111.164,\n",
       "   'sourceId': 35,\n",
       "   'footnoteId': [61246],\n",
       "   'units': 'Number of deaths per 1,000 live births',\n",
       "   'multiplier': 0,\n",
       "   'baseYear': None},\n",
       "  {'year': 2000,\n",
       "   'value': 98.577,\n",
       "   'sourceId': 35,\n",
       "   'footnoteId': [61246],\n",
       "   'units': 'Number of deaths per 1,000 live births',\n",
       "   'multiplier': 0,\n",
       "   'baseYear': None},\n",
       "  {'year': 2005,\n",
       "   'value': 89.45,\n",
       "   'sourceId': 35,\n",
       "   'footnoteId': [61246],\n",
       "   'units': 'Number of deaths per 1,000 live births',\n",
       "   'multiplier': 0,\n",
       "   'baseYear': None},\n",
       "  {'year': 2020,\n",
       "   'value': 51.881,\n",
       "   'sourceId': 35,\n",
       "   'footnoteId': [61246],\n",
       "   'units': 'Number of deaths per 1,000 live births',\n",
       "   'multiplier': 0,\n",
       "   'baseYear': None}]}"
      ]
     },
     "execution_count": 22,
     "metadata": {},
     "output_type": "execute_result"
    }
   ],
   "source": [
    "ref_areas_publish[0]"
   ]
  },
  {
   "cell_type": "markdown",
   "metadata": {},
   "source": [
    "### Select distinct years among all data records:"
   ]
  },
  {
   "cell_type": "code",
   "execution_count": 23,
   "metadata": {},
   "outputs": [],
   "source": [
    "def distinct_years (ref_areas_publish):\n",
    "\n",
    "    temp = []\n",
    "    timePeriods = []\n",
    "\n",
    "    for g in ref_areas_publish:\n",
    "        temp.extend(subdict_list(g['data'], ['year'], exclude = False))\n",
    "\n",
    "    for i in unique_dicts(temp):\n",
    "        timePeriods.append(i['year'])\n",
    "\n",
    "    timePeriods.sort()\n",
    "    return timePeriods\n",
    "    \n"
   ]
  },
  {
   "cell_type": "code",
   "execution_count": 24,
   "metadata": {},
   "outputs": [
    {
     "data": {
      "text/plain": [
       "[1985, 1990, 1995, 2000, 2005, 2008, 2010, 2011, 2012, 2013, 2014, 2015, 2020]"
      ]
     },
     "execution_count": 24,
     "metadata": {},
     "output_type": "execute_result"
    }
   ],
   "source": [
    "distinct_years(ref_areas_publish)"
   ]
  },
  {
   "cell_type": "markdown",
   "metadata": {},
   "source": [
    "### Select distinct slices among all data records"
   ]
  },
  {
   "cell_type": "code",
   "execution_count": 25,
   "metadata": {},
   "outputs": [],
   "source": [
    "def distinct_slices(ref_areas_publish):\n",
    "    temp = []\n",
    "\n",
    "    for g in ref_areas_publish:\n",
    "        temp.extend(subdict_list(g['data'], ['year', 'value', 'sourceId', 'footnoteId'], exclude = True))\n",
    "\n",
    "    slices = unique_dicts(temp)\n",
    "    return slices"
   ]
  },
  {
   "cell_type": "code",
   "execution_count": 26,
   "metadata": {},
   "outputs": [
    {
     "data": {
      "text/plain": [
       "[{'units': 'Number of deaths per 1,000 live births',\n",
       "  'multiplier': 0,\n",
       "  'baseYear': None}]"
      ]
     },
     "execution_count": 26,
     "metadata": {},
     "output_type": "execute_result"
    }
   ],
   "source": [
    "distinct_slices(ref_areas_publish)"
   ]
  },
  {
   "cell_type": "markdown",
   "metadata": {},
   "source": [
    "### Open catalogue of SYB Series"
   ]
  },
  {
   "cell_type": "code",
   "execution_count": 27,
   "metadata": {},
   "outputs": [
    {
     "data": {
      "text/plain": [
       "{'topicId': 2,\n",
       " 'topicNameEN': 'Population and migration',\n",
       " 'topicNameFR': 'Population et migration',\n",
       " 'tables': [{'tableCode': 'lifecbmort',\n",
       "   'tableId': 8,\n",
       "   'tableName': 'Population growth and indicators of fertility and mortality',\n",
       "   'tableNote': None,\n",
       "   'tableStatusId': 3,\n",
       "   'tbBkCode': 'X03 ',\n",
       "   'tbBkPrint': 'Y',\n",
       "   'series': [{'newSeriesName': 'Infant mortality ratio',\n",
       "     'units': 'Number of deaths per 1,000 live births',\n",
       "     'multiplier': 0,\n",
       "     'baseYear': None,\n",
       "     'SELECT': None,\n",
       "     'seriesCode': 'SYB011',\n",
       "     'SYB_series': [253]},\n",
       "    {'newSeriesName': 'Life expectancy at birth',\n",
       "     'units': 'Number of years',\n",
       "     'multiplier': 0,\n",
       "     'baseYear': None,\n",
       "     'SELECT': None,\n",
       "     'seriesCode': 'SYB012',\n",
       "     'SYB_series': [36, 268, 269]},\n",
       "    {'newSeriesName': 'Maternal mortality ratio',\n",
       "     'units': 'Number of deaths per 1,000 population',\n",
       "     'multiplier': 0,\n",
       "     'baseYear': None,\n",
       "     'SELECT': None,\n",
       "     'seriesCode': 'SYB013',\n",
       "     'SYB_series': [1159]},\n",
       "    {'newSeriesName': 'Population annual rate of increase',\n",
       "     'units': 'Percent',\n",
       "     'multiplier': 0,\n",
       "     'baseYear': None,\n",
       "     'SELECT': None,\n",
       "     'seriesCode': 'SYB014',\n",
       "     'SYB_series': [13]},\n",
       "    {'newSeriesName': 'Total fertility rate',\n",
       "     'units': 'Number of children per women',\n",
       "     'multiplier': 0,\n",
       "     'baseYear': None,\n",
       "     'SELECT': None,\n",
       "     'seriesCode': 'SYB015',\n",
       "     'SYB_series': [392]}]},\n",
       "  {'tableCode': 'intlmigref',\n",
       "   'tableId': 78,\n",
       "   'tableName': 'International migrants and refugees',\n",
       "   'tableNote': None,\n",
       "   'tableStatusId': 1,\n",
       "   'tbBkCode': 'T04 ',\n",
       "   'tbBkPrint': 'Y',\n",
       "   'series': [{'newSeriesName': 'Asylum seekers, including pending cases',\n",
       "     'units': 'Number',\n",
       "     'multiplier': 0,\n",
       "     'baseYear': None,\n",
       "     'SELECT': None,\n",
       "     'seriesCode': 'SYB072',\n",
       "     'SYB_series': [1617]},\n",
       "    {'newSeriesName': 'International migrant stock as percent of total population',\n",
       "     'units': 'Percent of total population',\n",
       "     'multiplier': 0,\n",
       "     'baseYear': None,\n",
       "     'SELECT': 'X',\n",
       "     'seriesCode': 'SYB073',\n",
       "     'SYB_series': [1614, 1616, 1615]},\n",
       "    {'newSeriesName': 'International migrant stock',\n",
       "     'units': 'Number',\n",
       "     'multiplier': 0,\n",
       "     'baseYear': None,\n",
       "     'SELECT': 'X',\n",
       "     'seriesCode': 'SYB074',\n",
       "     'SYB_series': [1610]},\n",
       "    {'newSeriesName': 'Other population of concern to UNHCR',\n",
       "     'units': 'Number',\n",
       "     'multiplier': 0,\n",
       "     'baseYear': None,\n",
       "     'SELECT': 'X',\n",
       "     'seriesCode': 'SYB075',\n",
       "     'SYB_series': [1618]},\n",
       "    {'newSeriesName': 'Total population of concern to UNHCR',\n",
       "     'units': 'Number',\n",
       "     'multiplier': 0,\n",
       "     'baseYear': None,\n",
       "     'SELECT': 'X',\n",
       "     'seriesCode': 'SYB076',\n",
       "     'SYB_series': [1619]},\n",
       "    {'newSeriesName': 'Total refugees and people in refugee-like situations',\n",
       "     'units': 'Number',\n",
       "     'multiplier': 0,\n",
       "     'baseYear': None,\n",
       "     'SELECT': 'X',\n",
       "     'seriesCode': 'SYB077',\n",
       "     'SYB_series': [1613]}]},\n",
       "  {'tableCode': 'popurbrur',\n",
       "   'tableId': 83,\n",
       "   'tableName': 'Population and rates of growth in urban areas and capital cities',\n",
       "   'tableNote': None,\n",
       "   'tableStatusId': 1,\n",
       "   'tbBkCode': 'T03 ',\n",
       "   'tbBkPrint': 'Y',\n",
       "   'series': [{'newSeriesName': 'Capital city population as percent of total population',\n",
       "     'units': 'Percent of total population',\n",
       "     'multiplier': 0,\n",
       "     'baseYear': None,\n",
       "     'SELECT': 'X',\n",
       "     'seriesCode': 'SYB078',\n",
       "     'SYB_series': [265]},\n",
       "    {'newSeriesName': 'Capital city population as percent of total urban population',\n",
       "     'units': 'Percent of total urban population',\n",
       "     'multiplier': 0,\n",
       "     'baseYear': None,\n",
       "     'SELECT': 'X',\n",
       "     'seriesCode': 'SYB079',\n",
       "     'SYB_series': [266]},\n",
       "    {'newSeriesName': 'Capital city population',\n",
       "     'units': 'Number',\n",
       "     'multiplier': 3.0,\n",
       "     'baseYear': None,\n",
       "     'SELECT': 'X',\n",
       "     'seriesCode': 'SYB080',\n",
       "     'SYB_series': [264]},\n",
       "    {'newSeriesName': 'Population growth rate per annum',\n",
       "     'units': 'Percent',\n",
       "     'multiplier': 0,\n",
       "     'baseYear': None,\n",
       "     'SELECT': 'X',\n",
       "     'seriesCode': 'SYB081',\n",
       "     'SYB_series': [329, 330]},\n",
       "    {'newSeriesName': 'Urban population as percent of total populatoin',\n",
       "     'units': 'Percent of total population',\n",
       "     'multiplier': 0,\n",
       "     'baseYear': None,\n",
       "     'SELECT': 'X',\n",
       "     'seriesCode': 'SYB082',\n",
       "     'SYB_series': [328]}]},\n",
       "  {'tableCode': 'pop',\n",
       "   'tableId': 89,\n",
       "   'tableName': 'Population, density and surface area',\n",
       "   'tableNote': None,\n",
       "   'tableStatusId': 1,\n",
       "   'tbBkCode': 'T02 ',\n",
       "   'tbBkPrint': 'Y',\n",
       "   'series': [{'newSeriesName': 'Share of population by age group',\n",
       "     'units': 'Percent',\n",
       "     'multiplier': 0,\n",
       "     'baseYear': None,\n",
       "     'SELECT': 'X',\n",
       "     'seriesCode': 'SYB087',\n",
       "     'SYB_series': [22, 23]},\n",
       "    {'newSeriesName': 'Population density',\n",
       "     'units': None,\n",
       "     'multiplier': 0,\n",
       "     'baseYear': None,\n",
       "     'SELECT': 'X',\n",
       "     'seriesCode': 'SYB088',\n",
       "     'SYB_series': [1171]},\n",
       "    {'newSeriesName': 'Population mid-year estimates',\n",
       "     'units': 'Number',\n",
       "     'multiplier': 6.0,\n",
       "     'baseYear': None,\n",
       "     'SELECT': 'X',\n",
       "     'seriesCode': 'SYB089',\n",
       "     'SYB_series': [1160, 123, 124]},\n",
       "    {'newSeriesName': 'Sex ratio (males per 100 females)',\n",
       "     'units': 'Percent',\n",
       "     'multiplier': 0,\n",
       "     'baseYear': None,\n",
       "     'SELECT': 'X',\n",
       "     'seriesCode': 'SYB090',\n",
       "     'SYB_series': [24]},\n",
       "    {'newSeriesName': 'Surface area',\n",
       "     'units': 'km2',\n",
       "     'multiplier': 3.0,\n",
       "     'baseYear': None,\n",
       "     'SELECT': 'X',\n",
       "     'seriesCode': 'SYB091',\n",
       "     'SYB_series': [1170]}]}]}"
      ]
     },
     "execution_count": 27,
     "metadata": {},
     "output_type": "execute_result"
    }
   ],
   "source": [
    "with open(output_dir + 'SYB_Series_Catalog.json') as json_file:  \n",
    "    catalogue = json.load(json_file)\n",
    "catalogue[0]"
   ]
  },
  {
   "cell_type": "code",
   "execution_count": 28,
   "metadata": {},
   "outputs": [
    {
     "name": "stdout",
     "output_type": "stream",
     "text": [
      "wide_Topic02_Table008_SeriesSYB011.json\n",
      "wide_Topic02_Table008_SeriesSYB012.json\n",
      "wide_Topic02_Table008_SeriesSYB013.json\n",
      "wide_Topic02_Table008_SeriesSYB014.json\n",
      "wide_Topic02_Table008_SeriesSYB015.json\n",
      "wide_Topic02_Table078_SeriesSYB072.json\n",
      "wide_Topic02_Table078_SeriesSYB073.json\n",
      "wide_Topic02_Table078_SeriesSYB074.json\n",
      "wide_Topic02_Table078_SeriesSYB075.json\n",
      "wide_Topic02_Table078_SeriesSYB076.json\n",
      "wide_Topic02_Table078_SeriesSYB077.json\n",
      "wide_Topic02_Table083_SeriesSYB078.json\n",
      "wide_Topic02_Table083_SeriesSYB079.json\n",
      "wide_Topic02_Table083_SeriesSYB080.json\n",
      "wide_Topic02_Table083_SeriesSYB081.json\n",
      "wide_Topic02_Table083_SeriesSYB082.json\n",
      "wide_Topic02_Table089_SeriesSYB087.json\n",
      "wide_Topic02_Table089_SeriesSYB088.json\n",
      "wide_Topic02_Table089_SeriesSYB089.json\n",
      "wide_Topic02_Table089_SeriesSYB090.json\n",
      "wide_Topic02_Table089_SeriesSYB091.json\n",
      "wide_Topic03_Table001_SeriesSYB001.json\n",
      "wide_Topic03_Table001_SeriesSYB002.json\n",
      "wide_Topic03_Table109_SeriesSYB108.json\n",
      "wide_Topic03_Table109_SeriesSYB109.json\n",
      "wide_Topic03_Table109_SeriesSYB110.json\n",
      "wide_Topic03_Table109_SeriesSYB111.json\n",
      "wide_Topic03_Table109_SeriesSYB112.json\n",
      "wide_Topic03_Table135_SeriesSYB119.json\n",
      "wide_Topic03_Table135_SeriesSYB120.json\n",
      "wide_Topic04_Table115_SeriesSYB113.json\n",
      "wide_Topic04_Table134_SeriesSYB118.json\n",
      "wide_Topic05_Table106_SeriesSYB105.json\n",
      "wide_Topic05_Table107_SeriesSYB106.json\n",
      "wide_Topic05_Table107_SeriesSYB107.json\n",
      "wide_Topic06_Table018_SeriesSYB022.json\n",
      "wide_Topic06_Table019_SeriesSYB023.json\n",
      "wide_Topic06_Table019_SeriesSYB024.json\n",
      "wide_Topic06_Table019_SeriesSYB025.json\n",
      "wide_Topic06_Table019_SeriesSYB026.json\n",
      "wide_Topic07_Table074_SeriesSYB065.json\n",
      "wide_Topic07_Table074_SeriesSYB066.json\n",
      "wide_Topic07_Table074_SeriesSYB067.json\n",
      "wide_Topic07_Table075_SeriesSYB068.json\n",
      "wide_Topic07_Table075_SeriesSYB069.json\n",
      "wide_Topic08_Table049_SeriesSYB030.json\n",
      "wide_Topic08_Table094_SeriesSYB092.json\n",
      "wide_Topic08_Table094_SeriesSYB093.json\n",
      "wide_Topic09_Table023_SeriesSYB027.json\n",
      "wide_Topic09_Table032_SeriesSYB028.json\n",
      "wide_Topic09_Table032_SeriesSYB029.json\n",
      "wide_Topic09_Table098_SeriesSYB094.json\n",
      "wide_Topic09_Table098_SeriesSYB095.json\n",
      "wide_Topic11_Table104_SeriesSYB098.json\n",
      "wide_Topic11_Table104_SeriesSYB099.json\n",
      "wide_Topic11_Table104_SeriesSYB100.json\n",
      "wide_Topic11_Table104_SeriesSYB101.json\n",
      "wide_Topic11_Table104_SeriesSYB102.json\n",
      "wide_Topic11_Table104_SeriesSYB103.json\n",
      "wide_Topic11_Table104_SeriesSYB104.json\n",
      "wide_Topic13_Table005_SeriesSYB003.json\n",
      "wide_Topic13_Table064_SeriesSYB045.json\n",
      "wide_Topic13_Table064_SeriesSYB046.json\n",
      "wide_Topic13_Table064_SeriesSYB047.json\n",
      "wide_Topic13_Table064_SeriesSYB048.json\n",
      "wide_Topic13_Table064_SeriesSYB049.json\n",
      "wide_Topic13_Table064_SeriesSYB050.json\n",
      "wide_Topic13_Table064_SeriesSYB051.json\n",
      "wide_Topic13_Table064_SeriesSYB052.json\n",
      "wide_Topic13_Table084_SeriesSYB083.json\n",
      "wide_Topic13_Table084_SeriesSYB084.json\n",
      "wide_Topic13_Table084_SeriesSYB085.json\n",
      "wide_Topic13_Table084_SeriesSYB086.json\n",
      "wide_Topic13_Table152_SeriesSYB123.json\n",
      "wide_Topic13_Table152_SeriesSYB124.json\n",
      "wide_Topic14_Table006_SeriesSYB004.json\n",
      "wide_Topic14_Table006_SeriesSYB005.json\n",
      "wide_Topic14_Table006_SeriesSYB006.json\n",
      "wide_Topic14_Table006_SeriesSYB007.json\n",
      "wide_Topic14_Table006_SeriesSYB008.json\n",
      "wide_Topic14_Table006_SeriesSYB009.json\n",
      "wide_Topic14_Table006_SeriesSYB010.json\n",
      "wide_Topic14_Table066_SeriesSYB058.json\n",
      "wide_Topic14_Table067_SeriesSYB059.json\n",
      "wide_Topic14_Table067_SeriesSYB060.json\n",
      "wide_Topic14_Table067_SeriesSYB061.json\n",
      "wide_Topic15_Table014_SeriesSYB016.json\n",
      "wide_Topic15_Table014_SeriesSYB017.json\n",
      "wide_Topic15_Table014_SeriesSYB018.json\n",
      "wide_Topic15_Table014_SeriesSYB019.json\n",
      "wide_Topic15_Table014_SeriesSYB020.json\n",
      "wide_Topic15_Table014_SeriesSYB021.json\n",
      "wide_Topic15_Table068_SeriesSYB062.json\n",
      "wide_Topic15_Table068_SeriesSYB063.json\n",
      "wide_Topic15_Table068_SeriesSYB064.json\n",
      "wide_Topic16_Table057_SeriesSYB031.json\n",
      "wide_Topic16_Table057_SeriesSYB032.json\n",
      "wide_Topic16_Table058_SeriesSYB033.json\n",
      "wide_Topic16_Table058_SeriesSYB034.json\n",
      "wide_Topic16_Table060_SeriesSYB035.json\n",
      "wide_Topic16_Table060_SeriesSYB036.json\n",
      "wide_Topic16_Table061_SeriesSYB037.json\n",
      "wide_Topic16_Table061_SeriesSYB038.json\n",
      "wide_Topic16_Table061_SeriesSYB039.json\n",
      "wide_Topic16_Table061_SeriesSYB040.json\n",
      "wide_Topic16_Table061_SeriesSYB041.json\n",
      "wide_Topic16_Table061_SeriesSYB042.json\n",
      "wide_Topic16_Table061_SeriesSYB043.json\n",
      "wide_Topic16_Table061_SeriesSYB044.json\n",
      "wide_Topic16_Table116_SeriesSYB114.json\n",
      "wide_Topic16_Table116_SeriesSYB115.json\n",
      "wide_Topic19_Table077_SeriesSYB070.json\n",
      "wide_Topic19_Table077_SeriesSYB071.json\n",
      "wide_Topic19_Table103_SeriesSYB096.json\n",
      "wide_Topic19_Table103_SeriesSYB097.json\n",
      "wide_Topic20_Table065_SeriesSYB053.json\n",
      "wide_Topic20_Table065_SeriesSYB054.json\n",
      "wide_Topic20_Table065_SeriesSYB055.json\n",
      "wide_Topic20_Table065_SeriesSYB056.json\n",
      "wide_Topic20_Table065_SeriesSYB057.json\n",
      "wide_Topic22_Table117_SeriesSYB116.json\n",
      "wide_Topic22_Table117_SeriesSYB117.json\n",
      "wide_Topic22_Table151_SeriesSYB121.json\n",
      "wide_Topic22_Table151_SeriesSYB122.json\n"
     ]
    }
   ],
   "source": [
    "for t1 in catalogue:\n",
    "    for t2 in t1['tables']:\n",
    "        for s in t2['series']:\n",
    "\n",
    "            #if s['seriesCode'] != 'SYB012':\n",
    "            #    continue\n",
    "                \n",
    "            # Read data file:\n",
    "            data = add_coordinates(read_data_file(topic = str(t1['topicId']).zfill(2), \n",
    "                                                  table = str(t2['tableId']).zfill(3), \n",
    "                                                  series =  s['seriesCode'], \n",
    "                                                  dir_path = output_dir),\n",
    "                                   countryListXY('../../globalResources/refAreas.txt').to_dict(orient = 'records'))\n",
    "            \n",
    "            #{k: data[k] for k in data.keys() if k not in ['refAreas', 'sources', 'footnotes']}\n",
    "            \n",
    "            footnote_lookup = {k: data[k] for k in data.keys() if k == 'footnotes'}\n",
    "            #footnote_lookup\n",
    "                       \n",
    "            source_lookup = {k: data[k] for k in data.keys() if k == 'sources'}\n",
    "            #source_lookup\n",
    "            \n",
    "            # Select only refAreas that have coordinates:\n",
    "\n",
    "            ref_areas_publish = []\n",
    "            for d in data['refAreas']:\n",
    "                if d['X'] and d['Y']:\n",
    "                    ref_areas_publish.append(d)\n",
    "                    \n",
    "            # Select unique time periods among all records:\n",
    "            years = distinct_years(ref_areas_publish)\n",
    "            #years = [i for i in years if i <= 2019]\n",
    "\n",
    "            # Obtain unique slices:\n",
    "            slices = distinct_slices(ref_areas_publish)\n",
    "            #slices   \n",
    "            \n",
    "            #ref_areas_publish[0]\n",
    "            \n",
    "            for g in ref_areas_publish:\n",
    "                \n",
    "                data_new = []\n",
    "\n",
    "                for j in slices:   \n",
    "                    \n",
    "                    # Select data corresponding to reference area g and slice j:\n",
    "\n",
    "                    slice_data = []\n",
    "\n",
    "                    slice_data_wide = j.copy()\n",
    "\n",
    "                    for record in g['data']:\n",
    "                    \n",
    "                        is_included = 1\n",
    "                        \n",
    "                        for k in j.keys():\n",
    "                            if k not in record.keys():\n",
    "                                is_included = is_included * 0\n",
    "                                break\n",
    "                            if j[k] != record[k]:\n",
    "                                is_included = is_included * 0\n",
    "                                break\n",
    "                                \n",
    "                        if is_included == 1: #and record['year'] <= 2019 :\n",
    "                                \n",
    "                            slice_data.append(record)\n",
    "                        \n",
    "                            \n",
    "                        if record['multiplier'] == 3:\n",
    "                            record['multiplierDesc'] = 'Thousands'\n",
    "                        elif record['multiplier'] == 6:\n",
    "                            record['multiplierDesc'] = 'Millions'\n",
    "                        elif record['multiplier'] == 9:\n",
    "                            record['multiplierDesc'] = 'Billions'\n",
    "                        elif record['multiplier'] == 12:\n",
    "                            record['multiplierDesc'] = 'Trillions'\n",
    "                        else:\n",
    "                            record['multiplierDesc'] = None\n",
    "                    \n",
    "                    if len(g['data'])>0:\n",
    "                        slice_data_wide['multiplierDesc'] = g['data'][0]['multiplierDesc']\n",
    "                    else:\n",
    "                        slice_data_wide['multiplierDesc'] = None\n",
    "                    \n",
    "                    #----------------------------\n",
    "                    slice_footnotes = []\n",
    "                    slice_sources = []\n",
    "                    slice_years = []\n",
    "                    \n",
    "                    \n",
    "                    for r in slice_data:\n",
    "                        if 'footnoteId' in r.keys():\n",
    "                            if r['footnoteId']:\n",
    "                                slice_footnotes.extend(r['footnoteId'])\n",
    "                        if 'sourceId' in r.keys():\n",
    "                            slice_sources.append(r['sourceId'])\n",
    "                        if 'year' in r.keys():\n",
    "                            slice_years.append(r['year'])\n",
    "                    \n",
    "                    \n",
    "\n",
    "                    slice_footnotes = list(set(slice_footnotes))\n",
    "                    slice_sources = list(set(slice_sources))\n",
    "\n",
    "                    max_year = None\n",
    "                    \n",
    "                    if len(slice_years)>0:\n",
    "                        max_year = max(slice_years)\n",
    "                    #----------------------------\n",
    "                \n",
    "                    \n",
    "                    #if len(slice_footnotes)>0:\n",
    "                        #print('\\n=============================')\n",
    "                        #print(g['refAreaDesc'] + '\\n Footnotes: ' + str(slice_footnotes) )\n",
    "                        #print('=============================')\n",
    "\n",
    "                    slice_footnote_join_EN = []\n",
    "                    slice_footnote_join_FR = []\n",
    "                    counter = 0\n",
    "                    for fn in slice_footnotes:\n",
    "                        #print('fn in slice_footnotes = ' + str(fn))\n",
    "                        \n",
    "                        for fn_lookup in footnote_lookup['footnotes']:\n",
    "                            if fn_lookup['footnoteId'] != fn:\n",
    "                                continue\n",
    "                            fn_text_EN = xstr(fn_lookup['footnoteTextEN'])\n",
    "                            fn_text_FR = xstr(fn_lookup['footnoteTextFR'])\n",
    "                            \n",
    "                        fn_years = []\n",
    "                        \n",
    "                        for r in slice_data:\n",
    "                            if 'footnoteId' in r.keys():\n",
    "                                if r['footnoteId']:\n",
    "                                    if fn in r['footnoteId']:\n",
    "                                        fn_years.append(r['year'])\n",
    "                        fn_years = year_intervals(fn_years)\n",
    "                        #print('fn_years = ' + fn_years)\n",
    "                            \n",
    "                        counter += 1\n",
    "\n",
    "                        #print('years = ', year_intervals(years))\n",
    "                        #print('- - - - - - - - - - - - - - - - -')\n",
    "\n",
    "                        if fn_years !=  year_intervals(years):\n",
    "                            slice_footnote_join_EN.append('['+fn_years+']: ' + fn_text_EN)\n",
    "                            slice_footnote_join_FR.append('['+fn_years+']: ' + fn_text_FR)\n",
    "                        else:\n",
    "                            slice_footnote_join_EN.append(fn_text_EN)\n",
    "                            slice_footnote_join_FR.append(fn_text_FR)\n",
    "                            \n",
    "                    if len(slice_footnote_join_EN) > 1:\n",
    "                        slice_footnote_join_EN.sort()\n",
    "                        slice_footnote_join_EN = ' '.join(slice_footnote_join_EN)\n",
    "                        slice_footnote_join_FR.sort()\n",
    "                        slice_footnote_join_FR = ' '.join(slice_footnote_join_FR)\n",
    "                    elif len(slice_footnote_join_EN) == 1: \n",
    "                        slice_footnote_join_EN = slice_footnote_join_EN[0]\n",
    "                        slice_footnote_join_FR = slice_footnote_join_FR[0]\n",
    "                    else:\n",
    "                        slice_footnote_join_EN = None\n",
    "                        slice_footnote_join_FR = None\n",
    "\n",
    "                    slice_data_wide['footnotesEN'] = slice_footnote_join_EN\n",
    "                    slice_data_wide['footnotesFR'] = slice_footnote_join_FR\n",
    "                    \n",
    "                    #if slice_footnote_join_EN:\n",
    "                    #    print(slice_footnote_join_EN)\n",
    "                    #    print(slice_footnote_join_FR)\n",
    "                        \n",
    "                    #----------------------------\n",
    "                \n",
    "                    #if len(slice_sources)>0:\n",
    "                        #print('\\n=============================')\n",
    "                        #print(g['refAreaDesc'] + '\\n Sources: ' + str(slice_sources) )\n",
    "                        #print('=============================')\n",
    "\n",
    "                    slice_source_join_EN = []\n",
    "                    slice_source_join_FR = []\n",
    "                    counter = 0\n",
    "                    for src in slice_sources:\n",
    "                        #print('fn in slice_footnotes = ' + str(fn))\n",
    "                        \n",
    "                        for src_lookup in source_lookup['sources']:\n",
    "                            if src_lookup['sourceId'] != src:\n",
    "                                continue\n",
    "                            src_text_EN = xstr(src_lookup['sourceNameEN'])\n",
    "                            src_text_FR = xstr(src_lookup['sourceNameFR'])\n",
    "                            \n",
    "                        src_years = []\n",
    "                        \n",
    "                        for r in slice_data:\n",
    "                            if 'sourceId' in r.keys():\n",
    "                                if r['sourceId']:\n",
    "                                    if src == r['sourceId']:\n",
    "                                        src_years.append(r['year'])\n",
    "                        src_years = year_intervals(src_years)\n",
    "                        #print('src_years = ' + src_years)\n",
    "                            \n",
    "                        counter += 1\n",
    "\n",
    "                        #print('years = ', year_intervals(years))\n",
    "                        #print('- - - - - - - - - - - - - - - - -')\n",
    "\n",
    "                        if src_years !=  year_intervals(years):\n",
    "                            slice_source_join_EN.append('['+src_years+']: ' + src_text_EN)\n",
    "                            slice_source_join_FR.append('['+src_years+']: ' + src_text_FR)\n",
    "                        else:\n",
    "                            slice_source_join_EN.append(src_text_EN)\n",
    "                            slice_source_join_FR.append(src_text_FR)\n",
    "                            \n",
    "                    if len(slice_source_join_EN) > 1:\n",
    "                        slice_source_join_EN.sort()\n",
    "                        slice_source_join_EN = ' '.join(slice_source_join_EN)\n",
    "                        slice_source_join_FR.sort()\n",
    "                        slice_source_join_FR = ' '.join(slice_source_join_FR)\n",
    "                    elif len(slice_source_join_EN) == 1: \n",
    "                        slice_source_join_EN = slice_source_join_EN[0]\n",
    "                        slice_source_join_FR = slice_source_join_FR[0]\n",
    "                    else:\n",
    "                        slice_source_join_EN = None\n",
    "                        slice_source_join_FR = None\n",
    "\n",
    "                    slice_data_wide['sourceEN'] = slice_source_join_EN\n",
    "                    slice_data_wide['sourceFR'] = slice_source_join_FR\n",
    "                    \n",
    "                    #if slice_source_join_EN:\n",
    "                    #    print(slice_source_join_EN)\n",
    "                    #    print(slice_source_join_FR)\n",
    "                        \n",
    "                \n",
    "                    #------------------------\n",
    "\n",
    "                    s_keys = list(j.keys())\n",
    "                    s_keys.extend(['footnoteId','sourceId'])\n",
    "                    \n",
    "                    for y in years:\n",
    "\n",
    "                        slice_data_y = subdict_list(select_dict(slice_data, 'year', y), \n",
    "                                                    s_keys, exclude = True)\n",
    "                        \n",
    "                        if len(slice_data_y)>0:\n",
    "                            for ry in slice_data_y:\n",
    "\n",
    "                                if 'value' in ry.keys():\n",
    "                                    slice_data_wide['value_'+str(y)] = ry['value']\n",
    "                                else:\n",
    "                                    slice_data_wide['value_'+str(y)] = None\n",
    "\n",
    "                        else:\n",
    "\n",
    "                            slice_data_wide['value_'+str(y)] = None\n",
    "\n",
    "                    if max_year:\n",
    "                        slice_data_wide['value_latest_year'] = slice_data_wide['value_'+str(max_year)]\n",
    "                        slice_data_wide['latest_year'] = max_year\n",
    "                    else:\n",
    "                        slice_data_wide['value_latest_year'] = None\n",
    "                        slice_data_wide['latest_year'] = None\n",
    "\n",
    "\n",
    "\n",
    "                    data_new.append(slice_data_wide)\n",
    "                    \n",
    "                del g['data']\n",
    "                g['data'] = data_new\n",
    "                \n",
    "            new_data = {}\n",
    "            new_data['topicId'] = data['topicId']\n",
    "            new_data['topicNameEN'] = data['topicNameEN']\n",
    "            new_data['topicNameFR'] = data['topicNameFR']\n",
    "            new_data['tableCode'] = data['tableCode']\n",
    "            new_data['tableId'] = data['tableId']\n",
    "            new_data['tableName'] = data['tableName']\n",
    "            new_data['seriesDesc'] = data['newSeriesName']\n",
    "            new_data['seriesCode'] = data['seriesCode']\n",
    "            new_data['SYB_series'] = data['SYB_series']\n",
    "            \n",
    "            \n",
    "            new_data['data'] = ref_areas_publish\n",
    "\n",
    "            file_name = 'wide_Topic'+ str(t1['topicId']).zfill(2) + '_Table' + str(t2['tableId']).zfill(3) + '_Series' + s['seriesCode'] + '.json'\n",
    "\n",
    "            with open(output_dir  + file_name, 'w') as f:\n",
    "                json.dump(new_data, f, indent=4)\n",
    "\n",
    "\n",
    "            print(file_name)\n",
    "\n",
    "\n",
    "                            \n",
    "\n",
    "                        "
   ]
  },
  {
   "cell_type": "code",
   "execution_count": null,
   "metadata": {},
   "outputs": [],
   "source": []
  }
 ],
 "metadata": {
  "kernelspec": {
   "display_name": "Python 3",
   "language": "python",
   "name": "python3"
  },
  "language_info": {
   "codemirror_mode": {
    "name": "ipython",
    "version": 3
   },
   "file_extension": ".py",
   "mimetype": "text/x-python",
   "name": "python",
   "nbconvert_exporter": "python",
   "pygments_lexer": "ipython3",
   "version": "3.6.8"
  }
 },
 "nbformat": 4,
 "nbformat_minor": 2
}
