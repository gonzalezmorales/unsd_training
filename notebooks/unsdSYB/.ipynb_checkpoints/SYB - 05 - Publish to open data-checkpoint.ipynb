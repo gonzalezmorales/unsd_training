{
 "cells": [
  {
   "cell_type": "markdown",
   "metadata": {},
   "source": [
    "# Promote from staging to Open Data Site"
   ]
  },
  {
   "cell_type": "markdown",
   "metadata": {},
   "source": [
    "## 1 - Import python libraries"
   ]
  },
  {
   "cell_type": "code",
   "execution_count": 1,
   "metadata": {},
   "outputs": [],
   "source": [
    "import copy\n",
    "import getpass\n",
    "import json\n",
    "import os\n",
    "import re\n",
    "import sys\n",
    "import time\n",
    "import traceback\n",
    "import urllib\n",
    "import urllib.request as request\n",
    "import urllib.request as urlopen\n",
    "from datetime import datetime\n",
    "import requests\n",
    "from IPython.display import display\n",
    "from arcgis.gis import GIS\n",
    "from arcgis.features import FeatureLayerCollection"
   ]
  },
  {
   "cell_type": "markdown",
   "metadata": {},
   "source": [
    "## 1.2 - Set up the global information and variables"
   ]
  },
  {
   "cell_type": "code",
   "execution_count": 2,
   "metadata": {},
   "outputs": [],
   "source": [
    "global open_data_group\n",
    "global open_data_group_prod\n",
    "global online_username\n",
    "global online_username_admin\n",
    "global gis_online_connection"
   ]
  },
  {
   "cell_type": "markdown",
   "metadata": {},
   "source": [
    "## 1.3 - Open connection to ArcGIS Online Organization"
   ]
  },
  {
   "cell_type": "code",
   "execution_count": 3,
   "metadata": {},
   "outputs": [],
   "source": [
    "def connect_to_arcGIS():\n",
    "\n",
    "    \"\"\"Open connection to ArcGIS Online Organization\"\"\"\n",
    "        \n",
    "    online_username = input('Username: ')\n",
    "    online_password = getpass.getpass('Password: ')\n",
    "    online_connection = \"https://www.arcgis.com\"\n",
    "    gis_online_connection = GIS(online_connection, \n",
    "                                online_username, \n",
    "                                online_password)\n",
    "    \n",
    "    return online_username, gis_online_connection"
   ]
  },
  {
   "cell_type": "markdown",
   "metadata": {},
   "source": [
    "## 1.4 - IDs of staging and production ArcGIS Online Groups"
   ]
  },
  {
   "cell_type": "code",
   "execution_count": 4,
   "metadata": {},
   "outputs": [],
   "source": [
    "# open_data_group_id:  \n",
    "#open_data_group_stage_id = '967dbf64d680450eaf424ac4a38799ad' #Travis\n",
    "open_data_group_stage_id = 'ad013d2911184063a0f0c97d252daf32'  #Luis\n",
    "#open_data_group_prod_id = '15c1671f5fbc4a00b1a359d51ea6a546' # SDG Open Data\n",
    "open_data_group_SYB_Topic02 = '29deadbc8f8c4ffaa4e39a1309753967' #SYB_Topic02\n",
    "open_data_group_SYB_Topic03 = 'f490c0547c1441239d1e2774cff18ee1' #SYB_Topic03\n",
    "open_data_group_SYB_Topic04 = 'd29d2a9106e4428d8bd3f3a0cae4e021' #SYB_Topic04\n",
    "open_data_group_SYB_Topic05 = '583d7057c4ca40b28ee344dd271ffd07' #SYB_Topic05\n",
    "open_data_group_SYB_Topic06 = '990a435a64044593ad5d91457af012ac' #SYB_Topic06\n",
    "open_data_group_SYB_Topic07 = '6e4d253e2e944132ab72b2d8e6e0d149' #SYB_Topic07\n",
    "open_data_group_SYB_Topic08 = 'd277c4d7c8a0438394bee1e98e501cb3' #SYB_Topic08\n",
    "open_data_group_SYB_Topic09 = 'e682722d7cae463f84b1b50408779451' #SYB_Topic09\n",
    "open_data_group_SYB_Topic11 = '4fc4d373d4574eb1bb5e06bb825dc83c' #SYB_Topic11\n",
    "open_data_group_SYB_Topic13 = 'd940686a22a84aa7820c619352d3b252' #SYB_Topic13\n",
    "open_data_group_SYB_Topic14 = 'f0a7f4c435bf4d54a0b1f89e268d9137' #SYB_Topic14\n",
    "open_data_group_SYB_Topic15 = '692d1929a8fa4f91b16e1098afe8d451' #SYB_Topic15\n",
    "open_data_group_SYB_Topic16 = '043d947fea5b467e8f6071b299394c9e' #SYB_Topic16\n",
    "open_data_group_SYB_Topic19 = '247d50a1970c4310bfc8e5d37c87e789' #SYB_Topic19\n",
    "open_data_group_SYB_Topic20 = '768edf7961644d29a730a47c3075c11a' #SYB_Topic20\n",
    "open_data_group_SYB_Topic22 = 'a5d0dd033b3e449295276a43e77b8eaa' #SYB_Topic22\n",
    "    "
   ]
  },
  {
   "cell_type": "markdown",
   "metadata": {},
   "source": [
    "# 2. Main publication block"
   ]
  },
  {
   "cell_type": "markdown",
   "metadata": {},
   "source": [
    "## 2.1 Connect to ArcGIS "
   ]
  },
  {
   "cell_type": "code",
   "execution_count": 5,
   "metadata": {},
   "outputs": [
    {
     "name": "stdin",
     "output_type": "stream",
     "text": [
      "Username:  gonzalezmorales_undesa\n",
      "Password:  ··········\n"
     ]
    }
   ],
   "source": [
    "online_username, gis_online_connection = connect_to_arcGIS()\n",
    "online_username_admin = 'unstats_admin'\n",
    "\n",
    "open_data_group = gis_online_connection.groups.get(open_data_group_stage_id)\n",
    "#open_data_group_prod = gis_online_connection.groups.get(open_data_group_prod_id)\n",
    "\n",
    "open_data_group_SYB_Topic02 = gis_online_connection.groups.get(open_data_group_SYB_Topic02)\n",
    "open_data_group_SYB_Topic03 = gis_online_connection.groups.get(open_data_group_SYB_Topic03)\n",
    "open_data_group_SYB_Topic04 = gis_online_connection.groups.get(open_data_group_SYB_Topic04)\n",
    "open_data_group_SYB_Topic05 = gis_online_connection.groups.get(open_data_group_SYB_Topic05)\n",
    "open_data_group_SYB_Topic06 = gis_online_connection.groups.get(open_data_group_SYB_Topic06)\n",
    "open_data_group_SYB_Topic07 = gis_online_connection.groups.get(open_data_group_SYB_Topic07)\n",
    "open_data_group_SYB_Topic08 = gis_online_connection.groups.get(open_data_group_SYB_Topic08)\n",
    "open_data_group_SYB_Topic09 = gis_online_connection.groups.get(open_data_group_SYB_Topic09)\n",
    "open_data_group_SYB_Topic11 = gis_online_connection.groups.get(open_data_group_SYB_Topic11)\n",
    "open_data_group_SYB_Topic13 = gis_online_connection.groups.get(open_data_group_SYB_Topic13)\n",
    "open_data_group_SYB_Topic14 = gis_online_connection.groups.get(open_data_group_SYB_Topic14)\n",
    "open_data_group_SYB_Topic15 = gis_online_connection.groups.get(open_data_group_SYB_Topic15)\n",
    "open_data_group_SYB_Topic16 = gis_online_connection.groups.get(open_data_group_SYB_Topic16)\n",
    "open_data_group_SYB_Topic19 = gis_online_connection.groups.get(open_data_group_SYB_Topic19)\n",
    "open_data_group_SYB_Topic20 = gis_online_connection.groups.get(open_data_group_SYB_Topic20)\n",
    "open_data_group_SYB_Topic22 = gis_online_connection.groups.get(open_data_group_SYB_Topic22)\n"
   ]
  },
  {
   "cell_type": "code",
   "execution_count": 6,
   "metadata": {},
   "outputs": [
    {
     "name": "stdout",
     "output_type": "stream",
     "text": [
      "unstats_admin\n",
      "gonzalezmorales_undesa\n"
     ]
    }
   ],
   "source": [
    "print(online_username_admin)\n",
    "print(online_username)"
   ]
  },
  {
   "cell_type": "code",
   "execution_count": 7,
   "metadata": {},
   "outputs": [],
   "source": [
    "def promote_sdg(topicId, \n",
    "                tableId=None, \n",
    "                seriesCode=None,\n",
    "                property_update_only=False):\n",
    "    try:\n",
    "        ## Production Site Changes\n",
    "        #  Search all the Items in Production Open Data Group\n",
    "        user = gis_online_connection.users.get(online_username)\n",
    "        admin_user = gis_online_connection.users.get(online_username_admin)\n",
    "        if admin_user is None:\n",
    "            return\n",
    "\n",
    "        user_items = admin_user.items(folder='Open Data - SYB_Topic'+topicId.zfill(2), max_items=800)\n",
    "        for item in user_items:\n",
    "            #  Move these items into Archive folder under the Admin User\n",
    "            print('Moving ' + item.title + ' to archive folder')\n",
    "            item.move(folder=\"Historic Data SYB\", owner=online_username_admin)\n",
    "\n",
    "            #  Unshare the Items from Open Data Group (Production)\n",
    "            display('unsharing item ' + item.title + \" from the open data group\") \n",
    "            item.unshare(open_data_group_prod[\"id\"])\n",
    "            if topicId == '2':\n",
    "                item.unshare(open_data_group_SYB_Topic02[\"id\"])\n",
    "            if topicId == '3':\n",
    "                item.unshare(open_data_group_SYB_Topic03[\"id\"])\n",
    "            if topicId == '4':\n",
    "                item.unshare(open_data_group_SYB_Topic04[\"id\"])\n",
    "            if topicId == '5':\n",
    "                item.unshare(open_data_group_SYB_Topic05[\"id\"])\n",
    "            if topicId == '6':\n",
    "                item.unshare(open_data_group_SYB_Topic06[\"id\"])\n",
    "            if topicId == '7':\n",
    "                item.unshare(open_data_group_SYB_Topic07[\"id\"])\n",
    "            if topicId == '8':\n",
    "                item.unshare(open_data_group_SYB_Topic08[\"id\"])\n",
    "            if topicId == '9':\n",
    "                item.unshare(open_data_group_SYB_Topic09[\"id\"])\n",
    "            if topicId == '11':\n",
    "                item.unshare(open_data_group_SYB_Topic11[\"id\"])\n",
    "            if topicId == '13':\n",
    "                item.unshare(open_data_group_SYB_Topic13[\"id\"])\n",
    "            if topicId == '14':\n",
    "                item.unshare(open_data_group_SYB_Topic14[\"id\"])\n",
    "            if topicId == '15':\n",
    "                item.unshare(open_data_group_SYB_Topic15[\"id\"])\n",
    "            if topicId == '16':\n",
    "                item.unshare(open_data_group_SYB_Topic16[\"id\"])\n",
    "            if topicId == '19':\n",
    "                item.unshare(open_data_group_SYB_Topic19[\"id\"])\n",
    "            if topicId == '20':\n",
    "                item.unshare(open_data_group_SYB_Topic20[\"id\"])\n",
    "            if topicId == '22':\n",
    "                item.unshare(open_data_group_SYB_Topic22[\"id\"])\n",
    "\n",
    "            #  Update Tags (Remove Current add Historic)\n",
    "            item_properties = {}\n",
    "            item_properties[\"tags\"] = item.tags\n",
    "            if 'Current' in item_properties[\"tags\"]:\n",
    "                item_properties[\"tags\"] = item_properties[\"tags\"].remove('Current');\n",
    "\n",
    "            item_properties[\"tags\"].append('Historic');\n",
    "            item.update(item_properties=item_properties)\n",
    "\n",
    "            # Mark this item as depracated\n",
    "            set_content_status(update_item=item,authoratative=False)\n",
    "\n",
    "        ##   Staging Site Changes\n",
    "        #  Get all the Items in the Open Data Folder\n",
    "        user_items = user.items(folder='Open Data - SYB_Topic' + topicId.zfill(2), max_items=800)\n",
    "        for item in user_items:\n",
    "            #Move all the CSV Files to the Open Data Folder of the Admin User\n",
    "            # This will also move the Feature Service Layer!!!!\n",
    "            if item.type == 'CSV':\n",
    "                # Assign Item to the Admin User\n",
    "                display('reassigning item ' + item.title + ' from ' + online_username + ' to ' + online_username_admin)\n",
    "                item.reassign_to(online_username_admin, 'Open Data - SYB_Topic' + topicId.zfill(2) )\n",
    "                \n",
    "        # Update the Items in the Open Data Folder of the Admin User\n",
    "        user_items = admin_user.items(folder='Open Data - SYB_Topic' + topicId.zfill(2), max_items=800)\n",
    "        for item in user_items:\n",
    "            # Update Sharing to Public, Share with Open Data Group     \n",
    "            if item.type != 'CSV':\n",
    "                display('updating sharing for item ' + item.title)\n",
    "                if topicId == '2':\n",
    "                    item.share(everyone=True, org=True, groups=open_data_group_SYB_Topic02[\"id\"], allow_members_to_edit=False)\n",
    "                if topicId == '3':\n",
    "                    item.share(everyone=True, org=True, groups=open_data_group_SYB_Topic03[\"id\"], allow_members_to_edit=False)\n",
    "                if topicId == '4':\n",
    "                    item.share(everyone=True, org=True, groups=open_data_group_SYB_Topic04[\"id\"], allow_members_to_edit=False)\n",
    "                if topicId == '5':\n",
    "                    item.share(everyone=True, org=True, groups=open_data_group_SYB_Topic05[\"id\"], allow_members_to_edit=False)\n",
    "                if topicId == '6':\n",
    "                    item.share(everyone=True, org=True, groups=open_data_group_SYB_Topic06[\"id\"], allow_members_to_edit=False)\n",
    "                if topicId == '7':\n",
    "                    item.share(everyone=True, org=True, groups=open_data_group_SYB_Topic07[\"id\"], allow_members_to_edit=False)\n",
    "                if topicId == '8':\n",
    "                    item.share(everyone=True, org=True, groups=open_data_group_SYB_Topic08[\"id\"], allow_members_to_edit=False)\n",
    "                if topicId == '9':\n",
    "                    item.share(everyone=True, org=True, groups=open_data_group_SYB_Topic09[\"id\"], allow_members_to_edit=False)\n",
    "                if topicId == '11':\n",
    "                    item.share(everyone=True, org=True, groups=open_data_group_SYB_Topic11[\"id\"], allow_members_to_edit=False)\n",
    "                if topicId == '13':\n",
    "                    item.share(everyone=True, org=True, groups=open_data_group_SYB_Topic13[\"id\"], allow_members_to_edit=False)\n",
    "                if topicId == '14':\n",
    "                    item.share(everyone=True, org=True, groups=open_data_group_SYB_Topic14[\"id\"], allow_members_to_edit=False)\n",
    "                if topicId == '15':\n",
    "                    item.share(everyone=True, org=True, groups=open_data_group_SYB_Topic15[\"id\"], allow_members_to_edit=False)\n",
    "                if topicId == '16':\n",
    "                    item.share(everyone=True, org=True, groups=open_data_group_SYB_Topic16[\"id\"], allow_members_to_edit=False)\n",
    "                if topicId == '19':\n",
    "                    item.share(everyone=True, org=True, groups=open_data_group_SYB_Topic19[\"id\"], allow_members_to_edit=False)\n",
    "                if topicId == '20':\n",
    "                    item.share(everyone=True, org=True, groups=open_data_group_SYB_Topic20[\"id\"], allow_members_to_edit=False)\n",
    "                if topicId == '22':\n",
    "                    item.share(everyone=True, org=True, groups=open_data_group_SYB_Topic22[\"id\"], allow_members_to_edit=False)\n",
    "                \n",
    "                # Disable Editing on the Feature Service\n",
    "                display('disable editing for ' + item.title)\n",
    "                item_flc = FeatureLayerCollection.fromitem(item)\n",
    "                update_dict2 = {\"capabilities\": \"Query, Extract\"}\n",
    "                item_flc.manager.update_definition(update_dict2)\n",
    "\n",
    "            #  Unshare from Staging Group\n",
    "            display('unsharing item ' + item.title + \" from the staging group\") \n",
    "            item.unshare(open_data_group[\"id\"])\n",
    "\n",
    "            display('enabling delete protection for: ' + item.title)\n",
    "            item.protect(enable=True)\n",
    "\n",
    "            # Tag as Current\n",
    "            display('updating item properties for ' + item.title)\n",
    "            item_properties = dict()\n",
    "            item_properties[\"tags\"] = item.tags.append('Current')\n",
    "            item.update(item_properties=item_properties)\n",
    "\n",
    "            # Mark this item as authoratative\n",
    "            display('marking item ' + item.title + \" as authortative\")\n",
    "            set_content_status(update_item=item,authoratative=True)\n",
    "\n",
    "    except:\n",
    "        traceback.print_exc()\n",
    "    return\n"
   ]
  },
  {
   "cell_type": "code",
   "execution_count": 8,
   "metadata": {},
   "outputs": [],
   "source": [
    "def set_content_status(update_item, authoratative=True):\n",
    "    sharing_url = gis_online_connection._url + \"/sharing/rest/content/items/\" + update_item.id + \"/setContentStatus\"\n",
    "    sharing_params = {'f': 'json', 'token': gis_online_connection._con.token,\n",
    "                        'status': 'org_authoritative' if authoratative else 'deprecated',\n",
    "                        'clearEmptyFields': 'false'}\n",
    "    r = requests.post(sharing_url, data=sharing_params)\n",
    "    sharing_json_data = json.loads(r.content.decode(\"UTF-8\"))"
   ]
  },
  {
   "cell_type": "code",
   "execution_count": 13,
   "metadata": {},
   "outputs": [
    {
     "data": {
      "text/plain": [
       "'reassigning item SYB116_2018 from gonzalezmorales_undesa to unstats_admin'"
      ]
     },
     "metadata": {},
     "output_type": "display_data"
    },
    {
     "data": {
      "text/plain": [
       "'reassigning item SYB117_2018 from gonzalezmorales_undesa to unstats_admin'"
      ]
     },
     "metadata": {},
     "output_type": "display_data"
    },
    {
     "data": {
      "text/plain": [
       "'reassigning item SYB121_2018 from gonzalezmorales_undesa to unstats_admin'"
      ]
     },
     "metadata": {},
     "output_type": "display_data"
    },
    {
     "data": {
      "text/plain": [
       "'reassigning item SYB122_2018 from gonzalezmorales_undesa to unstats_admin'"
      ]
     },
     "metadata": {},
     "output_type": "display_data"
    },
    {
     "data": {
      "text/plain": [
       "'unsharing item SYB116_2018 from the staging group'"
      ]
     },
     "metadata": {},
     "output_type": "display_data"
    },
    {
     "data": {
      "text/plain": [
       "'enabling delete protection for: SYB116_2018'"
      ]
     },
     "metadata": {},
     "output_type": "display_data"
    },
    {
     "data": {
      "text/plain": [
       "'updating item properties for SYB116_2018'"
      ]
     },
     "metadata": {},
     "output_type": "display_data"
    },
    {
     "data": {
      "text/plain": [
       "'marking item SYB116_2018 as authortative'"
      ]
     },
     "metadata": {},
     "output_type": "display_data"
    },
    {
     "data": {
      "text/plain": [
       "'updating sharing for item SYB indicator: Current health expenditure as a percentage of GDP'"
      ]
     },
     "metadata": {},
     "output_type": "display_data"
    },
    {
     "data": {
      "text/plain": [
       "'disable editing for SYB indicator: Current health expenditure as a percentage of GDP'"
      ]
     },
     "metadata": {},
     "output_type": "display_data"
    },
    {
     "data": {
      "text/plain": [
       "'unsharing item SYB indicator: Current health expenditure as a percentage of GDP from the staging group'"
      ]
     },
     "metadata": {},
     "output_type": "display_data"
    },
    {
     "data": {
      "text/plain": [
       "'enabling delete protection for: SYB indicator: Current health expenditure as a percentage of GDP'"
      ]
     },
     "metadata": {},
     "output_type": "display_data"
    },
    {
     "data": {
      "text/plain": [
       "'updating item properties for SYB indicator: Current health expenditure as a percentage of GDP'"
      ]
     },
     "metadata": {},
     "output_type": "display_data"
    },
    {
     "data": {
      "text/plain": [
       "'marking item SYB indicator: Current health expenditure as a percentage of GDP as authortative'"
      ]
     },
     "metadata": {},
     "output_type": "display_data"
    },
    {
     "data": {
      "text/plain": [
       "'unsharing item SYB117_2018 from the staging group'"
      ]
     },
     "metadata": {},
     "output_type": "display_data"
    },
    {
     "data": {
      "text/plain": [
       "'enabling delete protection for: SYB117_2018'"
      ]
     },
     "metadata": {},
     "output_type": "display_data"
    },
    {
     "data": {
      "text/plain": [
       "'updating item properties for SYB117_2018'"
      ]
     },
     "metadata": {},
     "output_type": "display_data"
    },
    {
     "data": {
      "text/plain": [
       "'marking item SYB117_2018 as authortative'"
      ]
     },
     "metadata": {},
     "output_type": "display_data"
    },
    {
     "data": {
      "text/plain": [
       "'updating sharing for item SYB indicator: Domestic general government health expenditure as a percent of government expenditure'"
      ]
     },
     "metadata": {},
     "output_type": "display_data"
    },
    {
     "data": {
      "text/plain": [
       "'disable editing for SYB indicator: Domestic general government health expenditure as a percent of government expenditure'"
      ]
     },
     "metadata": {},
     "output_type": "display_data"
    },
    {
     "data": {
      "text/plain": [
       "'unsharing item SYB indicator: Domestic general government health expenditure as a percent of government expenditure from the staging group'"
      ]
     },
     "metadata": {},
     "output_type": "display_data"
    },
    {
     "data": {
      "text/plain": [
       "'enabling delete protection for: SYB indicator: Domestic general government health expenditure as a percent of government expenditure'"
      ]
     },
     "metadata": {},
     "output_type": "display_data"
    },
    {
     "data": {
      "text/plain": [
       "'updating item properties for SYB indicator: Domestic general government health expenditure as a percent of government expenditure'"
      ]
     },
     "metadata": {},
     "output_type": "display_data"
    },
    {
     "data": {
      "text/plain": [
       "'marking item SYB indicator: Domestic general government health expenditure as a percent of government expenditure as authortative'"
      ]
     },
     "metadata": {},
     "output_type": "display_data"
    },
    {
     "data": {
      "text/plain": [
       "'unsharing item SYB121_2018 from the staging group'"
      ]
     },
     "metadata": {},
     "output_type": "display_data"
    },
    {
     "data": {
      "text/plain": [
       "'enabling delete protection for: SYB121_2018'"
      ]
     },
     "metadata": {},
     "output_type": "display_data"
    },
    {
     "data": {
      "text/plain": [
       "'updating item properties for SYB121_2018'"
      ]
     },
     "metadata": {},
     "output_type": "display_data"
    },
    {
     "data": {
      "text/plain": [
       "'marking item SYB121_2018 as authortative'"
      ]
     },
     "metadata": {},
     "output_type": "display_data"
    },
    {
     "data": {
      "text/plain": [
       "'updating sharing for item SYB indicator: Health personnel'"
      ]
     },
     "metadata": {},
     "output_type": "display_data"
    },
    {
     "data": {
      "text/plain": [
       "'disable editing for SYB indicator: Health personnel'"
      ]
     },
     "metadata": {},
     "output_type": "display_data"
    },
    {
     "data": {
      "text/plain": [
       "'unsharing item SYB indicator: Health personnel from the staging group'"
      ]
     },
     "metadata": {},
     "output_type": "display_data"
    },
    {
     "data": {
      "text/plain": [
       "'enabling delete protection for: SYB indicator: Health personnel'"
      ]
     },
     "metadata": {},
     "output_type": "display_data"
    },
    {
     "data": {
      "text/plain": [
       "'updating item properties for SYB indicator: Health personnel'"
      ]
     },
     "metadata": {},
     "output_type": "display_data"
    },
    {
     "data": {
      "text/plain": [
       "'marking item SYB indicator: Health personnel as authortative'"
      ]
     },
     "metadata": {},
     "output_type": "display_data"
    },
    {
     "data": {
      "text/plain": [
       "'unsharing item SYB122_2018 from the staging group'"
      ]
     },
     "metadata": {},
     "output_type": "display_data"
    },
    {
     "data": {
      "text/plain": [
       "'enabling delete protection for: SYB122_2018'"
      ]
     },
     "metadata": {},
     "output_type": "display_data"
    },
    {
     "data": {
      "text/plain": [
       "'updating item properties for SYB122_2018'"
      ]
     },
     "metadata": {},
     "output_type": "display_data"
    },
    {
     "data": {
      "text/plain": [
       "'marking item SYB122_2018 as authortative'"
      ]
     },
     "metadata": {},
     "output_type": "display_data"
    },
    {
     "data": {
      "text/plain": [
       "'updating sharing for item SYB indicator: Health personnel per 1000 population'"
      ]
     },
     "metadata": {},
     "output_type": "display_data"
    },
    {
     "data": {
      "text/plain": [
       "'disable editing for SYB indicator: Health personnel per 1000 population'"
      ]
     },
     "metadata": {},
     "output_type": "display_data"
    },
    {
     "data": {
      "text/plain": [
       "'unsharing item SYB indicator: Health personnel per 1000 population from the staging group'"
      ]
     },
     "metadata": {},
     "output_type": "display_data"
    },
    {
     "data": {
      "text/plain": [
       "'enabling delete protection for: SYB indicator: Health personnel per 1000 population'"
      ]
     },
     "metadata": {},
     "output_type": "display_data"
    },
    {
     "data": {
      "text/plain": [
       "'updating item properties for SYB indicator: Health personnel per 1000 population'"
      ]
     },
     "metadata": {},
     "output_type": "display_data"
    },
    {
     "data": {
      "text/plain": [
       "'marking item SYB indicator: Health personnel per 1000 population as authortative'"
      ]
     },
     "metadata": {},
     "output_type": "display_data"
    }
   ],
   "source": [
    "promote_sdg(topicId='22')"
   ]
  },
  {
   "cell_type": "code",
   "execution_count": null,
   "metadata": {},
   "outputs": [],
   "source": []
  },
  {
   "cell_type": "code",
   "execution_count": null,
   "metadata": {},
   "outputs": [],
   "source": []
  }
 ],
 "metadata": {
  "kernelspec": {
   "display_name": "Python 3",
   "language": "python",
   "name": "python3"
  },
  "language_info": {
   "codemirror_mode": {
    "name": "ipython",
    "version": 3
   },
   "file_extension": ".py",
   "mimetype": "text/x-python",
   "name": "python",
   "nbconvert_exporter": "python",
   "pygments_lexer": "ipython3",
   "version": "3.6.8"
  }
 },
 "nbformat": 4,
 "nbformat_minor": 2
}
