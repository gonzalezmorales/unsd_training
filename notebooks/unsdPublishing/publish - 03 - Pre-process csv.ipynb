{
 "cells": [
  {
   "cell_type": "markdown",
   "metadata": {},
   "source": [
    "# Pre-processing script 3\n",
    "This script pulls SDG data from API and transforms it into csv files.\n",
    "The steps are:\n",
    "- transform json into csv"
   ]
  },
  {
   "cell_type": "markdown",
   "metadata": {},
   "source": [
    "### Load necessary libraries"
   ]
  },
  {
   "cell_type": "code",
   "execution_count": 1,
   "metadata": {},
   "outputs": [],
   "source": [
    "import csv\n",
    "import json\n",
    "import urllib3  # allows to access a URL with python\n",
    "import math\n",
    "import os\n",
    "import io\n",
    "import collections\n",
    "import hashlib\n",
    "import numpy as np\n",
    "import pandas as pd\n",
    "import re\n",
    "import xlsxwriter\n",
    "\n",
    "# https://volderette.de/jupyter-notebook-tip-multiple-outputs/\n",
    "from IPython.core.interactiveshell import InteractiveShell\n",
    "InteractiveShell.ast_node_interactivity = \"all\"\n"
   ]
  },
  {
   "cell_type": "markdown",
   "metadata": {},
   "source": [
    "### User parameters"
   ]
  },
  {
   "cell_type": "code",
   "execution_count": 2,
   "metadata": {},
   "outputs": [
    {
     "name": "stdout",
     "output_type": "stream",
     "text": [
      "C:\\Users\\L.GonzalezMorales\\Documents\\GitHub\\FIS4SDGs\\notebooks\\unsdPublishing\n",
      "data inputs dir: ../../\n"
     ]
    }
   ],
   "source": [
    "release = '2019.Q1.G.03' # Make sure to have the correct release here\n",
    "\n",
    "dir_path = os.path.dirname(os.path.realpath('__file__'))\n",
    "print(dir_path)\n",
    "\n",
    "wd_dir = r'../../'\n",
    "print('data inputs dir: ' + wd_dir)"
   ]
  },
  {
   "cell_type": "code",
   "execution_count": 3,
   "metadata": {},
   "outputs": [],
   "source": [
    "indicator = '10.6.1'\n",
    "series = 'SG_INT_VRTDEV'\n",
    "\n",
    "\n",
    "file = 'wide_Indicator_'+indicator+'_Series_'+series+'.json'\n",
    "\n",
    "with open(wd_dir + 'data/unsd/2019.Q1.G.03/' + file) as json_file:  \n",
    "    data = json.load(json_file)"
   ]
  },
  {
   "cell_type": "code",
   "execution_count": 5,
   "metadata": {},
   "outputs": [],
   "source": [
    "with open(wd_dir + 'globalResources/metadata.json') as json_file:  \n",
    "    metadata = json.load(json_file)\n",
    "\n",
    "\n",
    "for g in metadata:\n",
    "    for t in g['targets']:\n",
    "        for i in t['indicators']:\n",
    "            if 'series' in i.keys():\n",
    "                for s in i['series']:\n",
    "                    \n",
    "                    \n",
    "                    #if s['code'] != 'SE_MAT_PROF':\n",
    "                    #    continue\n",
    "\n",
    "                    # Read data file:\n",
    "                    file = 'wide_Indicator_'+i['reference']+'_Series_'+s['code']+'.json'\n",
    "\n",
    "                    with open(wd_dir + 'data/unsd/2019.Q1.G.03/' + file) as json_file:  \n",
    "                        data = json.load(json_file)\n",
    "\n",
    "                    matrix = []\n",
    "                    for g in data['data']:\n",
    "                        for r in g['data']:\n",
    "                            d={}\n",
    "                            d['goal'] = data['goal']\n",
    "                            d['target'] = data['target']\n",
    "                            d['indicator'] = data['indicator']\n",
    "                            d['seriesCode'] = data['seriesCode']\n",
    "                            d['seriesDesc'] = data['seriesDesc']\n",
    "                            d['release'] = data['release']\n",
    "                            d['geoAreaCode'] = g['geoAreaCode']\n",
    "                            d['geoAreaName'] = g['geoAreaName']\n",
    "                            d['parentCode'] = g['parentCode']\n",
    "                            d['parentName'] = g['parentName']\n",
    "                            d['type'] = g['type']\n",
    "                            d['ISO3'] = g['ISO3']\n",
    "                            d['UN_Member'] = g['UN_Member']\n",
    "                            d['X'] = g['X']\n",
    "                            d['Y'] = g['Y']\n",
    "                            for k,v in r.items():\n",
    "                                d[k] = v\n",
    "                            matrix.append(d)\n",
    "                    if len(matrix)>0:\n",
    "                        keys = matrix[0].keys()\n",
    "\n",
    "                        file = 'csv_Indicator_'+i['reference']+'_Series_'+s['code']+'.csv'\n",
    "                        with open(wd_dir + 'data/unsd/2019.Q1.G.03/' + file, 'w', newline='', encoding='utf-8') as csv_file:  \n",
    "                            dict_writer = csv.DictWriter(csv_file, keys, delimiter='\\t')\n",
    "                            dict_writer.writeheader()\n",
    "                            dict_writer.writerows(matrix)\n"
   ]
  },
  {
   "cell_type": "code",
   "execution_count": 10,
   "metadata": {},
   "outputs": [
    {
     "data": {
      "text/plain": [
       "'../../data/unsd/2019.Q1.G.03/csv_Indicator_4.1.1_Series_SE_MAT_PROF.csv'"
      ]
     },
     "execution_count": 10,
     "metadata": {},
     "output_type": "execute_result"
    }
   ],
   "source": [
    "wd_dir + 'data/unsd/2019.Q1.G.03/' + file"
   ]
  },
  {
   "cell_type": "code",
   "execution_count": null,
   "metadata": {},
   "outputs": [],
   "source": []
  }
 ],
 "metadata": {
  "kernelspec": {
   "display_name": "Python 3",
   "language": "python",
   "name": "python3"
  },
  "language_info": {
   "codemirror_mode": {
    "name": "ipython",
    "version": 3
   },
   "file_extension": ".py",
   "mimetype": "text/x-python",
   "name": "python",
   "nbconvert_exporter": "python",
   "pygments_lexer": "ipython3",
   "version": "3.6.8"
  }
 },
 "nbformat": 4,
 "nbformat_minor": 2
}
