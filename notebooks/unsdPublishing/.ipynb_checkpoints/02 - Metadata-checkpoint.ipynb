{
 "cells": [
  {
   "cell_type": "markdown",
   "metadata": {},
   "source": [
    "# Create Metadata file"
   ]
  },
  {
   "cell_type": "markdown",
   "metadata": {},
   "source": [
    "#### Import required libraries"
   ]
  },
  {
   "cell_type": "code",
   "execution_count": 17,
   "metadata": {},
   "outputs": [],
   "source": [
    "import json\n",
    "import os\n",
    "import urllib3  # allows to access a URL with python\n",
    "import pandas as pd\n",
    "import re"
   ]
  },
  {
   "cell_type": "markdown",
   "metadata": {},
   "source": [
    "#### Specify the working directory"
   ]
  },
  {
   "cell_type": "code",
   "execution_count": 18,
   "metadata": {},
   "outputs": [
    {
     "name": "stdout",
     "output_type": "stream",
     "text": [
      "C:\\Users\\L.GonzalezMorales\\Documents\\GitHub\\FIS4SDGs\\notebooks\\unsdPublishing\n",
      "data inputs dir: ../../\n"
     ]
    }
   ],
   "source": [
    "dir_path = os.path.dirname(os.path.realpath('__file__'))\n",
    "print(dir_path)\n",
    "\n",
    "wd_dir = r'../../'\n",
    "print('data inputs dir: ' + wd_dir)"
   ]
  },
  {
   "cell_type": "markdown",
   "metadata": {},
   "source": [
    "#### Print multiple outputs when running the code block within a notebook cell"
   ]
  },
  {
   "cell_type": "code",
   "execution_count": 19,
   "metadata": {},
   "outputs": [],
   "source": [
    "# https://volderette.de/jupyter-notebook-tip-multiple-outputs/\n",
    "from IPython.core.interactiveshell import InteractiveShell\n",
    "InteractiveShell.ast_node_interactivity = \"all\""
   ]
  },
  {
   "cell_type": "markdown",
   "metadata": {},
   "source": [
    "#### Disable insecure request warnings when using `urllib3`."
   ]
  },
  {
   "cell_type": "code",
   "execution_count": 20,
   "metadata": {},
   "outputs": [],
   "source": [
    "urllib3.disable_warnings(urllib3.exceptions.InsecureRequestWarning)"
   ]
  },
  {
   "cell_type": "markdown",
   "metadata": {},
   "source": [
    "#### Read `sdgTree.json` "
   ]
  },
  {
   "cell_type": "code",
   "execution_count": 21,
   "metadata": {},
   "outputs": [],
   "source": [
    "with open(wd_dir + 'globalResources/sdgTree.json') as json_file:  \n",
    "    sdgTree = json.load(json_file)\n",
    "    \n",
    "\n"
   ]
  },
  {
   "cell_type": "markdown",
   "metadata": {},
   "source": [
    "#### Read `sdg_colors.json`"
   ]
  },
  {
   "cell_type": "code",
   "execution_count": 22,
   "metadata": {},
   "outputs": [
    {
     "data": {
      "text/plain": [
       "{'GoalCode': 1,\n",
       " 'hex': 'e5243b',\n",
       " 'rgb': [229, 36, 59],\n",
       " 'ColorScheme': ['FFDA99',\n",
       "  'FAC590',\n",
       "  'F5967F',\n",
       "  'F1786E',\n",
       "  'ED5C5E',\n",
       "  'E5233D',\n",
       "  'BF162F',\n",
       "  '93071F']}"
      ]
     },
     "execution_count": 22,
     "metadata": {},
     "output_type": "execute_result"
    }
   ],
   "source": [
    "with open(wd_dir + 'globalResources/sdgColors.json') as json_file:  \n",
    "    sdgColors = json.load(json_file)\n",
    "\n",
    "sdgColors['ColorScheme'][0]"
   ]
  },
  {
   "cell_type": "markdown",
   "metadata": {},
   "source": [
    "#### Read `tags_template.txt`"
   ]
  },
  {
   "cell_type": "code",
   "execution_count": 23,
   "metadata": {},
   "outputs": [
    {
     "data": {
      "text/html": [
       "<div>\n",
       "<style scoped>\n",
       "    .dataframe tbody tr th:only-of-type {\n",
       "        vertical-align: middle;\n",
       "    }\n",
       "\n",
       "    .dataframe tbody tr th {\n",
       "        vertical-align: top;\n",
       "    }\n",
       "\n",
       "    .dataframe thead th {\n",
       "        text-align: right;\n",
       "    }\n",
       "</style>\n",
       "<table border=\"1\" class=\"dataframe\">\n",
       "  <thead>\n",
       "    <tr style=\"text-align: right;\">\n",
       "      <th></th>\n",
       "      <th>goalCode</th>\n",
       "      <th>targetCode</th>\n",
       "      <th>indicatorCode</th>\n",
       "      <th>seriesCode</th>\n",
       "      <th>seriesDesc</th>\n",
       "      <th>TAGS</th>\n",
       "    </tr>\n",
       "  </thead>\n",
       "  <tbody>\n",
       "    <tr>\n",
       "      <th>0</th>\n",
       "      <td>1</td>\n",
       "      <td>1.1</td>\n",
       "      <td>1.1.1</td>\n",
       "      <td>SI_POV_DAY1</td>\n",
       "      <td>Proportion of population below international p...</td>\n",
       "      <td>['poverty line', 'poverty', 'standard of livin...</td>\n",
       "    </tr>\n",
       "    <tr>\n",
       "      <th>1</th>\n",
       "      <td>1</td>\n",
       "      <td>1.1</td>\n",
       "      <td>1.1.1</td>\n",
       "      <td>SI_POV_EMP1</td>\n",
       "      <td>Employed population below international povert...</td>\n",
       "      <td>['poverty line', 'poverty', 'standard of livin...</td>\n",
       "    </tr>\n",
       "    <tr>\n",
       "      <th>2</th>\n",
       "      <td>1</td>\n",
       "      <td>1.2</td>\n",
       "      <td>1.2.1</td>\n",
       "      <td>SI_POV_NAHC</td>\n",
       "      <td>Proportion of population living below the nati...</td>\n",
       "      <td>['poverty line', 'poverty', 'standard of livin...</td>\n",
       "    </tr>\n",
       "  </tbody>\n",
       "</table>\n",
       "</div>"
      ],
      "text/plain": [
       "   goalCode targetCode indicatorCode   seriesCode  \\\n",
       "0         1        1.1         1.1.1  SI_POV_DAY1   \n",
       "1         1        1.1         1.1.1  SI_POV_EMP1   \n",
       "2         1        1.2         1.2.1  SI_POV_NAHC   \n",
       "\n",
       "                                          seriesDesc  \\\n",
       "0  Proportion of population below international p...   \n",
       "1  Employed population below international povert...   \n",
       "2  Proportion of population living below the nati...   \n",
       "\n",
       "                                                TAGS  \n",
       "0  ['poverty line', 'poverty', 'standard of livin...  \n",
       "1  ['poverty line', 'poverty', 'standard of livin...  \n",
       "2  ['poverty line', 'poverty', 'standard of livin...  "
      ]
     },
     "execution_count": 23,
     "metadata": {},
     "output_type": "execute_result"
    },
    {
     "data": {
      "text/plain": [
       "(429, 6)"
      ]
     },
     "execution_count": 23,
     "metadata": {},
     "output_type": "execute_result"
    },
    {
     "data": {
      "text/plain": [
       "{'indicatorCode': '1.1.1',\n",
       " 'seriesCode': 'SI_POV_DAY1',\n",
       " 'TAGS': \"['poverty line', 'poverty', 'standard of living', 'basic needs']\"}"
      ]
     },
     "execution_count": 23,
     "metadata": {},
     "output_type": "execute_result"
    }
   ],
   "source": [
    "tags_df = pd.read_csv(wd_dir + 'globalResources/tagsTemplate.txt', sep='\\t')\n",
    "tags_df.head(3)\n",
    "tags_df.shape\n",
    "tags_df = tags_df.drop(columns=['goalCode','targetCode','seriesDesc'] )\n",
    "tags = tags_df.to_dict('records')\n",
    "tags[0]"
   ]
  },
  {
   "cell_type": "code",
   "execution_count": 24,
   "metadata": {},
   "outputs": [
    {
     "data": {
      "text/plain": [
       "{'indicatorCode': '1.3.1',\n",
       " 'seriesCode': 'SI_COV_DISAB',\n",
       " 'TAGS': ['poverty',\n",
       "  'standard of living',\n",
       "  'basic needs',\n",
       "  'social welfare',\n",
       "  'disability benefits',\n",
       "  'persons with disabilities']}"
      ]
     },
     "execution_count": 24,
     "metadata": {},
     "output_type": "execute_result"
    }
   ],
   "source": [
    "for i in tags:\n",
    "    tags_string = i['TAGS']\n",
    "    tags_string = re.sub('[\\[\\]\\']','',tags_string)\n",
    "    tags_list = tags_string.split(', ')\n",
    "    i['TAGS'] = tags_list\n",
    "\n",
    "tags[5]"
   ]
  },
  {
   "cell_type": "markdown",
   "metadata": {},
   "source": [
    "## Join SDG Tree and Tags"
   ]
  },
  {
   "cell_type": "code",
   "execution_count": 28,
   "metadata": {},
   "outputs": [],
   "source": [
    "for g in sdgTree:\n",
    "    goal = g['code']\n",
    "    thumbnail = 'https://raw.githubusercontent.com/UNStats/FIS4SDGs/master/sdgIcons/sdgIcons_thumbnails/SDG'+goal.zfill(2)+'.png'\n",
    "    g['thumbnail'] = thumbnail\n",
    "    \n",
    "    for sc in sdgColors['ColorScheme']:\n",
    "        if str(sc['GoalCode']) == g['code']:\n",
    "            g['hex'] = sc['hex']\n",
    "            g['rgb'] = sc['rgb']\n",
    "            g['colorScheme'] = sc['ColorScheme']\n",
    "    \n",
    "    for t in g['targets']:\n",
    "        \n",
    "        for i in t['indicators']:\n",
    "            \n",
    "            if 'series' in i:\n",
    "                for s in i['series']:\n",
    "\n",
    "                    for tg in tags:\n",
    "\n",
    "                        if tg['indicatorCode'] == i['reference'] and tg['seriesCode'] == s['code']:\n",
    "                            s['tags'] = tg['TAGS']\n"
   ]
  },
  {
   "cell_type": "markdown",
   "metadata": {},
   "source": [
    "#### Save metadata as a json file"
   ]
  },
  {
   "cell_type": "code",
   "execution_count": 29,
   "metadata": {},
   "outputs": [],
   "source": [
    "with open(wd_dir + 'publishing/metadata.json', 'w') as f:\n",
    "    json.dump(sdgTree, f, indent=4)"
   ]
  },
  {
   "cell_type": "code",
   "execution_count": null,
   "metadata": {},
   "outputs": [],
   "source": []
  }
 ],
 "metadata": {
  "kernelspec": {
   "display_name": "Python 3",
   "language": "python",
   "name": "python3"
  },
  "language_info": {
   "codemirror_mode": {
    "name": "ipython",
    "version": 3
   },
   "file_extension": ".py",
   "mimetype": "text/x-python",
   "name": "python",
   "nbconvert_exporter": "python",
   "pygments_lexer": "ipython3",
   "version": "3.6.8"
  }
 },
 "nbformat": 4,
 "nbformat_minor": 2
}
