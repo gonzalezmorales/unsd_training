{
 "cells": [
  {
   "cell_type": "markdown",
   "metadata": {},
   "source": [
    "# Create SDG Tree"
   ]
  },
  {
   "cell_type": "markdown",
   "metadata": {},
   "source": [
    "#### Import required libraries"
   ]
  },
  {
   "cell_type": "code",
   "execution_count": 1,
   "metadata": {},
   "outputs": [],
   "source": [
    "import json\n",
    "import os\n",
    "import pandas as pd\n",
    "import copy\n",
    "import urllib3  # allows to access a URL with python"
   ]
  },
  {
   "cell_type": "markdown",
   "metadata": {},
   "source": [
    "#### Specify the working directory"
   ]
  },
  {
   "cell_type": "code",
   "execution_count": 2,
   "metadata": {},
   "outputs": [
    {
     "name": "stdout",
     "output_type": "stream",
     "text": [
      "C:\\Users\\L.GonzalezMorales\\Documents\\GitHub\\FIS4SDGs\\notebooks\\updateGlobalResources\n",
      "data inputs dir: ../../\n"
     ]
    }
   ],
   "source": [
    "dir_path = os.path.dirname(os.path.realpath('__file__'))\n",
    "print(dir_path)\n",
    "\n",
    "wd_dir = r'../../'\n",
    "print('data inputs dir: ' + wd_dir)"
   ]
  },
  {
   "cell_type": "markdown",
   "metadata": {},
   "source": [
    "#### Print multiple outputs when running the code block within a notebook cell"
   ]
  },
  {
   "cell_type": "code",
   "execution_count": 3,
   "metadata": {},
   "outputs": [],
   "source": [
    "# https://volderette.de/jupyter-notebook-tip-multiple-outputs/\n",
    "from IPython.core.interactiveshell import InteractiveShell\n",
    "InteractiveShell.ast_node_interactivity = \"all\""
   ]
  },
  {
   "cell_type": "markdown",
   "metadata": {},
   "source": [
    "#### Disable insecure request warnings when using `urllib3`."
   ]
  },
  {
   "cell_type": "code",
   "execution_count": 4,
   "metadata": {},
   "outputs": [],
   "source": [
    "urllib3.disable_warnings(urllib3.exceptions.InsecureRequestWarning)"
   ]
  },
  {
   "cell_type": "markdown",
   "metadata": {},
   "source": [
    "### Get goals, targets, and indicators from global indicator framework"
   ]
  },
  {
   "cell_type": "code",
   "execution_count": 5,
   "metadata": {},
   "outputs": [
    {
     "data": {
      "text/plain": [
       "{'code': '7',\n",
       " 'labelEN': 'Goal 7',\n",
       " 'descEN': 'Ensure access to affordable, reliable, sustainable and modern energy for all',\n",
       " 'labelES': 'Objetivo 7',\n",
       " 'descES': 'Garantizar el acceso a una energía asequible, fiable, sostenible y moderna para todos',\n",
       " 'labelFR': 'Objectif 7',\n",
       " 'descFR': 'Garantir l’accès de tous à des services énergétiques fiables, durables et modernes, à un coût abordable'}"
      ]
     },
     "execution_count": 5,
     "metadata": {},
     "output_type": "execute_result"
    }
   ],
   "source": [
    "indicator_fwk_g = pd.read_excel(wd_dir + 'workingFiles/GlobalIndicatorFramework2019_EN_ES_FR.xlsx',sheet_name='Goals')\n",
    "indicator_fwk_g = indicator_fwk_g.to_dict('records')\n",
    "for g in indicator_fwk_g:\n",
    "    for key, value in g.items():\n",
    "        g[key] = str(value).replace(u'\\xa0', u' ').encode(\"utf-8\").decode(\"utf-8\")\n",
    "\n",
    "indicator_fwk_g[6]\n",
    "\n"
   ]
  },
  {
   "cell_type": "code",
   "execution_count": 6,
   "metadata": {},
   "outputs": [
    {
     "data": {
      "text/plain": [
       "{'parentCode': '2',\n",
       " 'code': '2.2',\n",
       " 'labelEN': 'Target 2.2',\n",
       " 'descEN': 'By 2030, end all forms of malnutrition, including achieving, by 2025, the internationally agreed targets on stunting and wasting in children under 5 years of age, and address the nutritional needs of adolescent girls, pregnant and lactating women and older persons',\n",
       " 'labelES': 'Meta 2.2',\n",
       " 'descES': 'De aquí a 2030, poner fin a todas las formas de malnutrición, incluso logrando, a más tardar en 2025, las metas convenidas internacionalmente sobre el retraso del crecimiento y la emaciación de los niños menores de 5 años, y abordar las necesidades de nutrición de las adolescentes, las mujeres embarazadas y lactantes y las personas de edad',\n",
       " 'labelFR': 'Cible 2.2',\n",
       " 'descFR': 'D’ici à 2030, mettre fin à toutes les formes de malnutrition, y compris en atteignant d’ici à 2025 les objectifs arrêtés à l’échelle internationale relatifs aux retards de croissance et à l’émaciation chez les enfants de moins de 5 ans, et répondre aux besoins nutritionnels des adolescentes, des femmes enceintes ou allaitantes et des personnes âgées'}"
      ]
     },
     "execution_count": 6,
     "metadata": {},
     "output_type": "execute_result"
    }
   ],
   "source": [
    "\n",
    "indicator_fwk_t = pd.read_excel(wd_dir + 'workingFiles/GlobalIndicatorFramework2019_EN_ES_FR.xlsx',sheet_name='Targets')\n",
    "indicator_fwk_t = indicator_fwk_t.to_dict('records')\n",
    "for t in indicator_fwk_t:\n",
    "    for key, value in t.items():\n",
    "        t[key] = str(value).replace(u'\\xa0', u' ').encode(\"utf-8\").decode(\"utf-8\")\n",
    "indicator_fwk_t[8]\n"
   ]
  },
  {
   "cell_type": "code",
   "execution_count": 7,
   "metadata": {},
   "outputs": [
    {
     "data": {
      "text/plain": [
       "{'parentCode': '1.1',\n",
       " 'code': 'C010101',\n",
       " 'reference': '1.1.1',\n",
       " 'labelEN': 'Indicator 1.1.1',\n",
       " 'descEN': ' Proportion of population below the international poverty line, by sex, age, employment status and geographical location (urban/rural)',\n",
       " 'labelES': 'Indicador 1.1.1',\n",
       " 'descES': ' Proporción de la población que vive por debajo del umbral internacional de pobreza, desglosada por sexo, edad, situación laboral y ubicación geográfica (urbana o rural)',\n",
       " 'labelFR': 'Indicateur 1.1.1',\n",
       " 'descFR': ' Proportion de la population vivant au-dessous du seuil de pauvreté fixé au niveau international, par sexe, âge, situation dans l’emploi et lieu de résidence (zone urbaine/zone rurale)'}"
      ]
     },
     "execution_count": 7,
     "metadata": {},
     "output_type": "execute_result"
    }
   ],
   "source": [
    "\n",
    "indicator_fwk_i = pd.read_excel(wd_dir + 'workingFiles/GlobalIndicatorFramework2019_EN_ES_FR.xlsx',sheet_name='Indicators')\n",
    "indicator_fwk_i = indicator_fwk_i.to_dict('records')\n",
    "for i in indicator_fwk_i:\n",
    "    for key, value in i.items():\n",
    "        i[key] = str(value).replace(u'\\xa0', u' ').encode(\"utf-8\").decode(\"utf-8\")\n",
    "indicator_fwk_i[0]"
   ]
  },
  {
   "cell_type": "code",
   "execution_count": 8,
   "metadata": {},
   "outputs": [],
   "source": [
    "for g in indicator_fwk_g:\n",
    "    g['targets'] = []\n",
    "    for t in indicator_fwk_t:\n",
    "        if t['parentCode'] == g['code']:\n",
    "            target = copy.deepcopy(t)\n",
    "            del target['parentCode']\n",
    "            target['indicators'] = []\n",
    "            for i in indicator_fwk_i:\n",
    "                if i['parentCode'] == target['code']:\n",
    "                    indicator = copy.deepcopy(i)\n",
    "                    del indicator['parentCode']\n",
    "                    target['indicators'].append(indicator)\n",
    "            g['targets'].append(target)\n"
   ]
  },
  {
   "cell_type": "markdown",
   "metadata": {},
   "source": [
    "### Get goals, targets, indicators and series from the global SDG Indicators database"
   ]
  },
  {
   "cell_type": "markdown",
   "metadata": {},
   "source": [
    "#### Specify the release"
   ]
  },
  {
   "cell_type": "code",
   "execution_count": 9,
   "metadata": {},
   "outputs": [],
   "source": [
    "release = '2019.Q1.G.03'"
   ]
  },
  {
   "cell_type": "markdown",
   "metadata": {},
   "source": [
    "#### Call the endpoint of the SDG API that provides the list of goals with all their children:"
   ]
  },
  {
   "cell_type": "code",
   "execution_count": 10,
   "metadata": {},
   "outputs": [],
   "source": [
    "http = urllib3.PoolManager()\n",
    "response = http.request('GET', \"https://unstats.un.org/SDGAPI/v1/sdg/Goal/List?includechildren=true\")\n",
    "responseData = json.loads(response.data.decode('UTF-8'))"
   ]
  },
  {
   "cell_type": "markdown",
   "metadata": {},
   "source": [
    "#### Construct a simplified tree of goals-targets-indicators-series"
   ]
  },
  {
   "cell_type": "code",
   "execution_count": 11,
   "metadata": {},
   "outputs": [],
   "source": [
    "for fwk_g in indicator_fwk_g:\n",
    "    \n",
    "    for g in responseData:\n",
    "        if g['code'] == fwk_g['code']:\n",
    "            \n",
    "            for fwk_t in fwk_g['targets']:\n",
    "                for t in g['targets']:\n",
    "                    if t['code'] == fwk_t['code']:\n",
    "                        \n",
    "                        for fwk_i in fwk_t['indicators']:\n",
    "                            for i in t['indicators']:\n",
    "                                if i['code'] == fwk_i['reference']:\n",
    "                                    fwk_i['tier'] = i['tier']\n",
    "                                    fwk_i['series'] = []\n",
    "                                    \n",
    "                                    for s in i['series']:\n",
    "                                        if s['release'] == release:\n",
    "                                            ds = {}\n",
    "                                            ds['code'] = s['code']\n",
    "                                            ds['description'] = s['description']\n",
    "                                            ds['release'] = release\n",
    "\n",
    "                                            fwk_i['series'].append(ds)\n",
    "                                     \n",
    "        \n"
   ]
  },
  {
   "cell_type": "markdown",
   "metadata": {},
   "source": [
    "#### Save the SDG tree as a json file"
   ]
  },
  {
   "cell_type": "code",
   "execution_count": 12,
   "metadata": {},
   "outputs": [],
   "source": [
    "with open(wd_dir + 'globalResources\\sdgTree.json', 'w') as f:\n",
    "    json.dump(indicator_fwk_g, f, indent=4)"
   ]
  },
  {
   "cell_type": "code",
   "execution_count": null,
   "metadata": {},
   "outputs": [],
   "source": []
  }
 ],
 "metadata": {
  "kernelspec": {
   "display_name": "Python 3",
   "language": "python",
   "name": "python3"
  },
  "language_info": {
   "codemirror_mode": {
    "name": "ipython",
    "version": 3
   },
   "file_extension": ".py",
   "mimetype": "text/x-python",
   "name": "python",
   "nbconvert_exporter": "python",
   "pygments_lexer": "ipython3",
   "version": "3.6.8"
  }
 },
 "nbformat": 4,
 "nbformat_minor": 2
}
