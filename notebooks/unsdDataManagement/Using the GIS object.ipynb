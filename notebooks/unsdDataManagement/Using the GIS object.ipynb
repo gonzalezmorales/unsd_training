{
 "cells": [
  {
   "cell_type": "markdown",
   "metadata": {},
   "source": [
    "# Using the GIS object"
   ]
  },
  {
   "cell_type": "markdown",
   "metadata": {},
   "source": [
    "Import GIS from the `arcgis.gis` module:"
   ]
  },
  {
   "cell_type": "code",
   "execution_count": null,
   "metadata": {},
   "outputs": [],
   "source": [
    "from arcgis.gis import GIS"
   ]
  },
  {
   "cell_type": "markdown",
   "metadata": {},
   "source": [
    "To create a GIS object, pass the url and login credentials:"
   ]
  },
  {
   "cell_type": "code",
   "execution_count": null,
   "metadata": {},
   "outputs": [],
   "source": [
    "import getpass\n",
    "\n",
    "online_username = input('Username: ')\n",
    "online_password = getpass.getpass('Password: ')\n",
    "online_connection = \"https://www.arcgis.com\"\n",
    "\n",
    "\n",
    "gis = GIS(online_connection, \n",
    "          online_username, \n",
    "          online_password)"
   ]
  },
  {
   "cell_type": "markdown",
   "metadata": {},
   "source": [
    "Adding a '?' mark after an object and querying it brings up help for that object in the notebook:"
   ]
  },
  {
   "cell_type": "code",
   "execution_count": null,
   "metadata": {},
   "outputs": [],
   "source": [
    "gis?"
   ]
  },
  {
   "cell_type": "markdown",
   "metadata": {},
   "source": [
    "To access a user, use the `user` property of your `gis` object, which gives you an instance of the `UserManager` class.  Then call the `get()` method of the `UserManager` object to pass the user name of the user you are interested in."
   ]
  },
  {
   "cell_type": "code",
   "execution_count": null,
   "metadata": {},
   "outputs": [],
   "source": [
    "user = gis.users.get('gonzalezmorales_undesa')"
   ]
  },
  {
   "cell_type": "markdown",
   "metadata": {},
   "source": [
    "The ArcGIS API for Python is integrated with Jupyter Notebook to make it easy to visualize and interact with GIS resources. The `user` object has a rich representation that can be queried like this:"
   ]
  },
  {
   "cell_type": "code",
   "execution_count": null,
   "metadata": {},
   "outputs": [],
   "source": [
    "user"
   ]
  },
  {
   "cell_type": "markdown",
   "metadata": {},
   "source": [
    "Resources are implemented as Python dictionaries.  You can query for the resource properties using the `resource['property']` notation:"
   ]
  },
  {
   "cell_type": "code",
   "execution_count": null,
   "metadata": {},
   "outputs": [],
   "source": [
    "for property, value in vars(user).items():\n",
    "    print( property)"
   ]
  },
  {
   "cell_type": "code",
   "execution_count": null,
   "metadata": {},
   "outputs": [],
   "source": [
    "user['firstName']"
   ]
  },
  {
   "cell_type": "markdown",
   "metadata": {},
   "source": [
    "The properties are also available as properties on the resource object, so you can use the dot notation to access them:"
   ]
  },
  {
   "cell_type": "code",
   "execution_count": null,
   "metadata": {},
   "outputs": [],
   "source": [
    "user.lastName"
   ]
  },
  {
   "cell_type": "markdown",
   "metadata": {},
   "source": [
    "# Accessing and creating content\n",
    "Using the `gis` module, you can search for, access, and manage all your folders, contents, and automate such maintenance workflows as scripts"
   ]
  },
  {
   "cell_type": "markdown",
   "metadata": {},
   "source": [
    "## Search for content in your GIS\n",
    "- Accessing the `content` property of your `gis` object returns an instance of the `ContentManager` class. \n",
    "- You can use the `search` method of the `ContentManager` object to search for items in your GIS\n",
    "- The `query` parameter supports a variety of inputs (see [search reference](http://resources.arcgis.com/en/help/arcgis-rest-api/#/Search_reference/02r3000000mn000000/)).\n"
   ]
  },
  {
   "cell_type": "markdown",
   "metadata": {},
   "source": [
    "### Example 1:\n",
    "Access the `ContentManager` through the `content` property of your `GIS` object to search for items of type _\"feature layer\"_ that have _\"international poverty line\"_ in their title. \n",
    "\n",
    "For each feature layer that gets returned, display its rich representation within the notebook:"
   ]
  },
  {
   "cell_type": "code",
   "execution_count": null,
   "metadata": {},
   "outputs": [],
   "source": [
    "from IPython.display import display\n",
    "\n",
    "items = gis.content.search(query='title:international poverty line', \n",
    "                           item_type='Feature Layer')\n",
    "for item in items:\n",
    "    display(item)"
   ]
  },
  {
   "cell_type": "markdown",
   "metadata": {},
   "source": [
    "### Example 2:\n",
    "\n",
    "Limit the search to only your own content (excluding items from other users that are shared across the organization) by specifying the owner in the query string"
   ]
  },
  {
   "cell_type": "code",
   "execution_count": null,
   "metadata": {},
   "outputs": [],
   "source": [
    "my_items = gis.content.search(query=\"owner:unstats_admin\", item_type=\"csv\", max_items=800)\n",
    "\n",
    "for item in my_items[0:10]:\n",
    "    print(item)\n",
    "    display(item)"
   ]
  },
  {
   "cell_type": "markdown",
   "metadata": {},
   "source": [
    "### Example 3:\n",
    "Use one asterisk * for multiple character wild card search, and one question mark ? for single character:"
   ]
  },
  {
   "cell_type": "code",
   "execution_count": null,
   "metadata": {},
   "outputs": [],
   "source": [
    "# search for content that begin with a prefix - say 'unstats'\n",
    "search_result_unstats = gis.content.search(query='owner:unstats*')\n",
    "search_result_unstats"
   ]
  },
  {
   "cell_type": "markdown",
   "metadata": {},
   "source": [
    "### Example 4:\n",
    "Once you know an item's id (called itemId), you can access it using the get() method instead of searching for it."
   ]
  },
  {
   "cell_type": "code",
   "execution_count": null,
   "metadata": {},
   "outputs": [],
   "source": [
    "# lets get the itemid of first item from previous query\n",
    "first_item = search_result_unstats[0]\n",
    "known_item_id = first_item.id\n",
    "print(known_item_id)"
   ]
  },
  {
   "cell_type": "code",
   "execution_count": null,
   "metadata": {},
   "outputs": [],
   "source": [
    "# Use the get() to access this item\n",
    "online_banking_item = gis.content.get(known_item_id)\n",
    "online_banking_item"
   ]
  },
  {
   "cell_type": "markdown",
   "metadata": {},
   "source": [
    "## Search for content published by users outside your organization\n",
    "\n",
    "To search for content published by other named users and shared publicly, turn the `outside_org` flag to `True`:"
   ]
  },
  {
   "cell_type": "code",
   "execution_count": null,
   "metadata": {},
   "outputs": [],
   "source": [
    "sdgs = gis.content.search(query=\"lao\", item_type = \"web scene\",\n",
    "                                           sort_field=\"numViews\" ,sort_order=\"asc\",\n",
    "                                           max_items = 15, outside_org=True)\n",
    "for item in sdgs:\n",
    "    display(item)"
   ]
  },
  {
   "cell_type": "markdown",
   "metadata": {},
   "source": [
    "## Create new content\n",
    "Use the `add()` method on the `ContentManager` object (which is accessed through the `content` property of your `GIS` object)\n",
    "- The `add()` method accepts a dictionary containing the properties of the item being created\n",
    "- The optional `data` parameter accepts a string path to a file\n",
    "- The optional `metadata` parameter specifies an XML files containing metadata information\n",
    "\n",
    "All the content you add this way is added to the authenticated user's content"
   ]
  },
  {
   "cell_type": "markdown",
   "metadata": {},
   "source": [
    "### Example 5\n",
    "Add a csv file as a csv item"
   ]
  },
  {
   "cell_type": "code",
   "execution_count": null,
   "metadata": {},
   "outputs": [],
   "source": [
    "csv_path = r\"https://raw.githubusercontent.com/UNStats/FIS4SDGs/master/unsd/data/csv/country_1.1.1-SI_POV_DAY1_wide.csv\"\n",
    "csv_properties={'title':'Proportion of population below international poverty line (percent)',\n",
    "                'description':'Goal 1: End poverty in all its forms everywhere <br> TargetCode 1.1: By 2030, eradicate extreme poverty for all people everywhere, currently measured as people living on less than $1.25 a day <br> Indicator 1.1.1: Proportion of population below the international poverty line, by sex, age, employment status and geographical location (urban/rural)<br>Series: SI_POV_DAY1 - Proportion of population below international poverty line (percent)',\n",
    "                'tags':'poverty line, poverty, standard of living, basic needs'}\n",
    "thumbnail_path = r\"https://raw.githubusercontent.com/UNStats/FIS4SDGs/master/globalResources/sdgIcons120x120/SDG01.jpg\"\n",
    "\n",
    "test_csv_item = gis.content.add(item_properties=csv_properties, \n",
    "                                data=csv_path,\n",
    "                                thumbnail = thumbnail_path)"
   ]
  },
  {
   "cell_type": "markdown",
   "metadata": {},
   "source": [
    "The `add()` method returns an object of type arcgis.gis.Item representing the added item. In Jupyter notebook environment, you can visualize it by querying the item:"
   ]
  },
  {
   "cell_type": "code",
   "execution_count": null,
   "metadata": {},
   "outputs": [],
   "source": [
    "test_csv_item"
   ]
  },
  {
   "cell_type": "markdown",
   "metadata": {},
   "source": [
    "*Note*: You can specify most properties of an item as a dictionary to the `item_properties` parameter. Refer to the [API ref doc ](http://esri.github.io/arcgis-python-api/apidoc/html/arcgis.gis.html#arcgis.gis.ContentManager.add) of this method for a definitive list. \n",
    "\n",
    "You could also specify an empty dictionary to this parameter, the downside is search cannot index these items efficiently if it does not have sufficient metadata information, hence that is not a good programming practice.\n",
    "\n",
    "The following is a list of all the properties of the csv item just created:"
   ]
  },
  {
   "cell_type": "code",
   "execution_count": null,
   "metadata": {},
   "outputs": [],
   "source": [
    "for property, value in vars(test_csv_item).items():\n",
    "    print( property)"
   ]
  },
  {
   "cell_type": "markdown",
   "metadata": {},
   "source": [
    "## Publishing an item as a web layer\n",
    "Call the `publish()` method on them following types of items to publish them into hosted web layers:\n",
    "- csv\n",
    "- service definitions\n",
    "- file geodatabases\n",
    "- shape files\n",
    "- packages such as tile, scene and vector tile \n",
    "\n",
    "The `publish()` method accepts an optional `publish_parameters` dictionary specifying certain parameters supported by the publish REST API\n",
    "\n",
    "The `address_fields` parameter allows to specify which field in a csv or dataset contains address fields suitable for geocoding.\n"
   ]
  },
  {
   "cell_type": "markdown",
   "metadata": {},
   "source": [
    "### Example 6\n",
    "Publish the csv from the previous example into a web feature layer. \n",
    "\n",
    "This csv contains latitude and longitude coordinates of each point, hence the `address_fields` parameter can be ignored. \n",
    "The `publish()` method returns an `Item` object corresponding to the web layer created."
   ]
  },
  {
   "cell_type": "code",
   "execution_count": null,
   "metadata": {},
   "outputs": [],
   "source": [
    "test_feature_layer_item2 = test_csv_item.publish()"
   ]
  },
  {
   "cell_type": "code",
   "execution_count": null,
   "metadata": {},
   "outputs": [],
   "source": [
    "test_feature_layer_item2"
   ]
  },
  {
   "cell_type": "markdown",
   "metadata": {},
   "source": [
    "Notice that the GIS used the same metadata (thumbnail, title, description) of the source item used for publishing. This helps provide context on what the new item is and also as a good starting point for the metadata which you can edit later."
   ]
  },
  {
   "cell_type": "markdown",
   "metadata": {},
   "source": [
    "## Importing data from a pandas data frame\n",
    "\n",
    "- Pandas is a popular data analysis library for Python. \n",
    "- The data frame object of pandas allows to store and analyze tabular information. \n",
    "- The `import_data() method` allows to import pandas dataframes as an `arcgis.features.FeatureCollection` object \n",
    "- The feature collection can then be added as an `item` to your `GIS`.\n",
    "\n",
    "### Example 7\n",
    "Create a new pandas data frame from a csv file, filter that data through pandas, and add it as a feature collection."
   ]
  },
  {
   "cell_type": "code",
   "execution_count": null,
   "metadata": {
    "scrolled": true
   },
   "outputs": [],
   "source": [
    "# read csv as a pandas dataframe\n",
    "import pandas\n",
    "\n",
    "SI_POV_DAY1_df = pandas.read_csv(r'https://raw.githubusercontent.com/UNStats/FIS4SDGs/master/unsd/data/csv/1.1.1-SI_POV_DAY1_long.csv',encoding ='latin1')\n",
    "SI_POV_DAY1_df"
   ]
  },
  {
   "cell_type": "markdown",
   "metadata": {},
   "source": [
    "List the name of all columns in the data frame:"
   ]
  },
  {
   "cell_type": "code",
   "execution_count": null,
   "metadata": {},
   "outputs": [],
   "source": [
    "list(SI_POV_DAY1_df)"
   ]
  },
  {
   "cell_type": "code",
   "execution_count": null,
   "metadata": {},
   "outputs": [],
   "source": [
    "# find Value of Ethiopia after 1999\n",
    "ethiopia = SI_POV_DAY1_df.loc[(SI_POV_DAY1_df.GeoArea_Desc == 'Ethiopia') & (SI_POV_DAY1_df.Year > 1999)][['Year','Value']]\n",
    "ethiopia"
   ]
  },
  {
   "cell_type": "code",
   "execution_count": null,
   "metadata": {},
   "outputs": [],
   "source": [
    "# only select values for years after 2009:\n",
    "SI_POV_DAY1_2015 = SI_POV_DAY1_df.loc[(SI_POV_DAY1_df.Year == 2015)]\n",
    "SI_POV_DAY1_2015"
   ]
  },
  {
   "cell_type": "markdown",
   "metadata": {},
   "source": [
    "Import the data frame as a feature collection:"
   ]
  },
  {
   "cell_type": "code",
   "execution_count": null,
   "metadata": {},
   "outputs": [],
   "source": [
    "SI_POV_DAY1_2015_fc = gis.content.import_data(SI_POV_DAY1_2015)\n",
    "SI_POV_DAY1_2015_fc"
   ]
  },
  {
   "cell_type": "markdown",
   "metadata": {},
   "source": [
    "Convert the feature collection to JSON and add it as a text based item to the GIS:"
   ]
  },
  {
   "cell_type": "code",
   "execution_count": null,
   "metadata": {},
   "outputs": [],
   "source": [
    "import json\n",
    "SI_POV_DAY1_2015_fc_dict = dict(SI_POV_DAY1_2015_fc.properties)\n",
    "SI_POV_DAY1_2015_json = json.dumps({\"featureCollection\": {\"layers\": [SI_POV_DAY1_2015_fc_dict]}})"
   ]
  },
  {
   "cell_type": "code",
   "execution_count": null,
   "metadata": {},
   "outputs": [],
   "source": [
    "SI_POV_DAY1_2015_item_properties = {'title': 'Proportion of population below international poverty line',\n",
    "                        'description':'Example demonstrating conversion of pandas ' + \\\n",
    "                         'dataframe object to a GIS item',\n",
    "                        'tags': 'arcgis python api, pandas, csv',\n",
    "                        'text':SI_POV_DAY1_2015_json,\n",
    "                        'type':'Feature Collection'}\n",
    "\n",
    "SI_POV_DAY1_2015_item = gis.content.add(SI_POV_DAY1_2015_item_properties)\n",
    "SI_POV_DAY1_2015_item"
   ]
  },
  {
   "cell_type": "markdown",
   "metadata": {},
   "source": [
    "**Note**: The `add()` method was used to add the `FeatureCollection` object in memory as an `item` on the `GIS`. Notice that the `text` property was used to pass the JSON representation of the feature collection, and the `type` property to indicate the item type.  You can use the same method to publish web maps and web scenes."
   ]
  },
  {
   "cell_type": "markdown",
   "metadata": {},
   "source": [
    "## Publishing an empty service\n",
    "The `ContentManager` class allows to publish a new service without any content, using the `create_service()` method (e.g., in order to add content later by editing the servcie from client applications).\n",
    "\n",
    "Before creating a service, check whether the desired unique service name is available using the `is_service_name_available()` method."
   ]
  },
  {
   "cell_type": "code",
   "execution_count": null,
   "metadata": {},
   "outputs": [],
   "source": [
    "# check if service name is available\n",
    "gis.content.is_service_name_available(service_name= \"awesome_python\", service_type = 'featureService')"
   ]
  },
  {
   "cell_type": "code",
   "execution_count": null,
   "metadata": {},
   "outputs": [],
   "source": [
    "# let us publish an empty service\n",
    "empty_service_item = gis.content.create_service(name='awesome_python', service_type='featureService')\n",
    "empty_service_item"
   ]
  },
  {
   "cell_type": "code",
   "execution_count": null,
   "metadata": {},
   "outputs": [],
   "source": [
    "# access the layers property of the item\n",
    "empty_service_item.layers"
   ]
  },
  {
   "cell_type": "markdown",
   "metadata": {},
   "source": [
    "# Organizing content\n",
    "\n",
    "The `create_folder()` and `delete_folder()` methods available on the `ContentManager` class can be used to manage folders. \n",
    "\n",
    "Once folders are created, the `move()` method is used to move content into and out them.\n",
    "\n",
    "### Example 8\n",
    "Create a folder called 'tests' and move the `SI_POV_DAY1_2015_item` into it"
   ]
  },
  {
   "cell_type": "code",
   "execution_count": null,
   "metadata": {},
   "outputs": [],
   "source": [
    "# create new folder\n",
    "gis.content.create_folder(folder= 'tests')"
   ]
  },
  {
   "cell_type": "code",
   "execution_count": null,
   "metadata": {},
   "outputs": [],
   "source": [
    "# move the SI_POV_DAY1_2015_item into the tests folder\n",
    "SI_POV_DAY1_2015_item.move(folder= 'tests')"
   ]
  },
  {
   "cell_type": "code",
   "execution_count": null,
   "metadata": {},
   "outputs": [],
   "source": [
    "# move the empty_service_item into the tests folder\n",
    "empty_service_item.move(folder= 'tests')"
   ]
  },
  {
   "cell_type": "markdown",
   "metadata": {},
   "source": [
    "To move content out of folders to root, call the `move()` method and specify `/` as folder name"
   ]
  },
  {
   "cell_type": "code",
   "execution_count": null,
   "metadata": {},
   "outputs": [],
   "source": [
    "# move back to root\n",
    "empty_service_item.move(folder='/')"
   ]
  },
  {
   "cell_type": "markdown",
   "metadata": {},
   "source": [
    "# Managing content\n",
    "\n",
    "As an organization matures and expands its GIS, users add items of various types and properties with varying relationships to one another. \n",
    "\n",
    "This section demonstrates how to \n",
    "- retrieve item properties\n",
    "- delete an existing item\n",
    "- examine relationships between items"
   ]
  },
  {
   "cell_type": "markdown",
   "metadata": {},
   "source": [
    "## Access an item"
   ]
  },
  {
   "cell_type": "code",
   "execution_count": null,
   "metadata": {},
   "outputs": [],
   "source": [
    "#access an Item\n",
    "SI_POV_DAY1_2015_item = gis.content.get('f4b8621d0c9b466d8f3222e448c5329d')\n",
    "SI_POV_DAY1_2015_item"
   ]
  },
  {
   "cell_type": "code",
   "execution_count": null,
   "metadata": {},
   "outputs": [],
   "source": [
    "# item id\n",
    "SI_POV_DAY1_2015_item.id"
   ]
  },
  {
   "cell_type": "code",
   "execution_count": null,
   "metadata": {},
   "outputs": [],
   "source": [
    "# title\n",
    "SI_POV_DAY1_2015_item.title"
   ]
  },
  {
   "cell_type": "code",
   "execution_count": null,
   "metadata": {},
   "outputs": [],
   "source": [
    "# tags\n",
    "SI_POV_DAY1_2015_item.tags"
   ]
  },
  {
   "cell_type": "markdown",
   "metadata": {},
   "source": [
    "## Updating item properties\n",
    "You can update any of the Items properties using the `update()` method. It accepts parameters similar to `add()` method."
   ]
  },
  {
   "cell_type": "code",
   "execution_count": null,
   "metadata": {},
   "outputs": [],
   "source": [
    "# update the tags\n",
    "SI_POV_DAY1_2015_item.update(item_properties={'tags':'poverty, test, new Tag'})"
   ]
  },
  {
   "cell_type": "code",
   "execution_count": null,
   "metadata": {},
   "outputs": [],
   "source": [
    "# updating thumbnail\n",
    "SI_POV_DAY1_2015_item.update(thumbnail= r'https://raw.githubusercontent.com/UNStats/FIS4SDGs/master/globalResources/sdgIcons120x120/SDG01.jpg')"
   ]
  },
  {
   "cell_type": "code",
   "execution_count": null,
   "metadata": {
    "scrolled": true
   },
   "outputs": [],
   "source": [
    "SI_POV_DAY1_2015_item"
   ]
  },
  {
   "cell_type": "markdown",
   "metadata": {},
   "source": [
    "## Downloading items\n",
    "Downloading components of your items, such as the thumbnail, data, or metadata, is helpful in order to archive content or migrate content.\n",
    "\n",
    "### Download item data\n",
    "The `get_data()` function reads the binary or text data associated with an item and returns it as a byte array.\n",
    "- If the text data is JSON, it converts the data to a Python dictionary. If it is another text format, it returns the file as a string.\n",
    "- If data is not text, binary files are returned along with the path to where the data is downloaded."
   ]
  },
  {
   "cell_type": "code",
   "execution_count": null,
   "metadata": {},
   "outputs": [],
   "source": [
    "ports_csv_item = gis.content.get('a184c6a497f848f098f3960ec94f7443')\n",
    "ports_csv_item"
   ]
  },
  {
   "cell_type": "markdown",
   "metadata": {},
   "source": [
    "The data for a csv item is the csv file itself. It's downloaded to your default temporary directory"
   ]
  },
  {
   "cell_type": "code",
   "execution_count": null,
   "metadata": {},
   "outputs": [],
   "source": [
    "ports_csv_item.get_data()"
   ]
  },
  {
   "cell_type": "markdown",
   "metadata": {},
   "source": [
    "## Download metadata\n",
    "Metadata can be downloaded into an XML file using the `download_metadata()` method. Once we have the XML file we can edit it and then modify existing portal items by entering the file name as the metadata parameter of the Item.update() method. You can also add it with the metadata parameter on the ContentManager.add() method when creating new content. See the specific documentation for enabling metadata with ArcGIS Online or ArcGIS Enterprise."
   ]
  }
 ],
 "metadata": {
  "kernelspec": {
   "display_name": "Python 3",
   "language": "python",
   "name": "python3"
  },
  "language_info": {
   "codemirror_mode": {
    "name": "ipython",
    "version": 3
   },
   "file_extension": ".py",
   "mimetype": "text/x-python",
   "name": "python",
   "nbconvert_exporter": "python",
   "pygments_lexer": "ipython3",
   "version": "3.6.8"
  }
 },
 "nbformat": 4,
 "nbformat_minor": 2
}
