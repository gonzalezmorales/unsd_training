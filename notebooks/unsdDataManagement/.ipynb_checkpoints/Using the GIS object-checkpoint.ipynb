{
 "cells": [
  {
   "cell_type": "markdown",
   "metadata": {},
   "source": [
    "# Using the GIS object"
   ]
  },
  {
   "cell_type": "markdown",
   "metadata": {},
   "source": [
    "Import GIS from the `arcgis.gis` module:"
   ]
  },
  {
   "cell_type": "code",
   "execution_count": 1,
   "metadata": {},
   "outputs": [],
   "source": [
    "from arcgis.gis import GIS"
   ]
  },
  {
   "cell_type": "markdown",
   "metadata": {},
   "source": [
    "To create a GIS object, pass the url and login credentials:"
   ]
  },
  {
   "cell_type": "code",
   "execution_count": 2,
   "metadata": {},
   "outputs": [
    {
     "name": "stdin",
     "output_type": "stream",
     "text": [
      "Username:  gonzalezmorales_undesa\n",
      "Password:  ··········\n"
     ]
    }
   ],
   "source": [
    "import getpass\n",
    "\n",
    "online_username = input('Username: ')\n",
    "online_password = getpass.getpass('Password: ')\n",
    "online_connection = \"https://www.arcgis.com\"\n",
    "\n",
    "\n",
    "gis = GIS(online_connection, \n",
    "          online_username, \n",
    "          online_password)"
   ]
  },
  {
   "cell_type": "markdown",
   "metadata": {},
   "source": [
    "Adding a '?' mark after an object and querying it brings up help for that object in the notebook:"
   ]
  },
  {
   "cell_type": "code",
   "execution_count": 3,
   "metadata": {},
   "outputs": [
    {
     "data": {
      "text/plain": [
       "\u001b[1;31mType:\u001b[0m           GIS\n",
       "\u001b[1;31mString form:\u001b[0m    GIS @ https://undesa.maps.arcgis.com\n",
       "\u001b[1;31mFile:\u001b[0m           c:\\users\\l.gonzalezmorales\\appdata\\local\\continuum\\anaconda3\\lib\\site-packages\\arcgis\\gis\\__init__.py\n",
       "\u001b[1;31mDocstring:\u001b[0m     \n",
       ".. _gis:\n",
       "\n",
       "A GIS is representative of a single ArcGIS Online organization or an ArcGIS Enterprise deployment. The GIS object\n",
       "provides helper objects to manage (search, create, retrieve) GIS resources such as content, users, and groups.\n",
       "\n",
       "Additionally, the GIS object has properties to query its state, which is accessible using the properties attribute.\n",
       "\n",
       "The GIS provides a mapping widget that can be used in the Jupyter Notebook environment for visualizing GIS content\n",
       "as well as the results of your analysis. To create a new map, call the map() method.\n",
       "\n",
       "The constructor constructs a GIS object given a url and user credentials to ArcGIS Online\n",
       "or an ArcGIS Enterprise Portal. User credentials can be passed in using username/password\n",
       "pair, or key_file/cert_file pair (in case of PKI). Supports built-in users, LDAP, PKI, Integrated Windows Authentication\n",
       "(using NTLM and Kerberos) and Anonymous access.\n",
       "\n",
       "If no url is provided, ArcGIS Online is used. If username/password\n",
       "or key/cert files are not provided, the currently logged-in user's credentials (IWA) or anonymous access is used.\n",
       "\n",
       "Persisted profiles for the GIS can be created by giving the GIS authorization credentials and\n",
       "specifying a profile name. The profile stores all of the authorization credentials (except the password) in the\n",
       "user's home directory in an unencrypted config file named .arcgisprofile. The profile securely stores the password\n",
       "in an O.S. specific password manager through the `keyring <https://pypi.python.org/pypi/keyring>`_ python module.\n",
       "(Note: Linux systems may need additional software installed and configured for proper security) Once a profile has\n",
       "been saved, passing the profile parameter by itself uses the authorization credentials saved in the configuration\n",
       "file/password manager by that profile name. Multiple profiles can be created and used in parallel.\n",
       "\n",
       "See https://developers.arcgis.com/python/guide/working-with-different-authentication-schemes/ for examples.\n",
       "\n",
       "\n",
       "================    ===============================================================\n",
       "**Argument**        **Description**\n",
       "----------------    ---------------------------------------------------------------\n",
       "url                 Optional string. If URL is None, then the URL will be ArcGIS\n",
       "                    Online.  This should be a web address to either a local Portal\n",
       "                    or to ArcGIS Online in the form:\n",
       "                    <scheme>://<fully_qualified_domain_name>/<web_adaptor> (Portal Example)\n",
       "                    https://gis.example.com/portal\n",
       "----------------    ---------------------------------------------------------------\n",
       "username            Optional string. The login user name (case-sensitive).\n",
       "----------------    ---------------------------------------------------------------\n",
       "password            Optional string. If a username is provided, a password is\n",
       "                    expected.  This is case-sensitive. If the password is not\n",
       "                    provided, the user is prompted in the interactive dialog.\n",
       "----------------    ---------------------------------------------------------------\n",
       "key_file            Optional string. The file path to a user's key certificate for PKI\n",
       "                    authentication\n",
       "----------------    ---------------------------------------------------------------\n",
       "cert_file           Optional string. The file path to a user's certificate file for PKI\n",
       "                    authentication. If a PFX or P12 certificate is used, a password is required.\n",
       "                    If a PEM file is used, the key_file is required.\n",
       "----------------    ---------------------------------------------------------------\n",
       "verify_cert         Optional boolean. If a site has an invalid SSL certificate or is\n",
       "                    being accessed via the IP or hostname instead of the name on the\n",
       "                    certificate, set this value to False.  This will ensure that all\n",
       "                    SSL certificate issues are ignored.\n",
       "                    The default is True.\n",
       "                    **Warning** Setting the value to False can be a security risk.\n",
       "----------------    ---------------------------------------------------------------\n",
       "set_active          Optional boolean. The default is True.  If True, the GIS object\n",
       "                    will be used as the default GIS object throughout the whole\n",
       "                    scripting session.\n",
       "----------------    ---------------------------------------------------------------\n",
       "client_id           Optional string. Used for OAuth athentication.  This is the\n",
       "                    client ID value.\n",
       "----------------    ---------------------------------------------------------------\n",
       "profile             Optional string. the name of the profile that the user wishes to use\n",
       "                    to authenticate, if set, the identified profile will be used to login\n",
       "                    to the specified GIS.\n",
       "================    ===============================================================\n",
       "\n",
       "In addition to explicitly named parameters, the GIS object supports optional key word\n",
       "arguments:\n",
       "\n",
       "================    ===============================================================\n",
       "**kwargs**          **Description**\n",
       "----------------    ---------------------------------------------------------------\n",
       "proxy_host          Optional string. The host name of the proxy server used to allow HTTP/S\n",
       "                    access in the network where the script is run.\n",
       "\n",
       "                    ex: 127.0.0.1\n",
       "----------------    ---------------------------------------------------------------\n",
       "proxy_port          Optional integer. The proxy host port.  The default is 80.\n",
       "----------------    ---------------------------------------------------------------\n",
       "token               Optional string. This is the Enterprise token for built-in\n",
       "                    logins. This parameter is only honored if the username/password\n",
       "                    is None and the security for the site uses BUILT-IN security.\n",
       "================    ===============================================================\n",
       "\n",
       "\n",
       "\n",
       "\n",
       ".. code-block:: python\n",
       "\n",
       "    # Usage Example 1: Anonymous Login to ArcGIS Online\n",
       "\n",
       "    gis = GIS()\n",
       "\n",
       ".. code-block:: python\n",
       "\n",
       "    # Usage Example 2: Built-in Login to ArcGIS Online\n",
       "\n",
       "    gis = GIS(username=\"someuser\", password=\"secret1234\")\n",
       "\n",
       ".. code-block:: python\n",
       "\n",
       "    # Usage Example 3: Built-in Login to ArcGIS Enterprise\n",
       "\n",
       "    gis = GIS(url=\"http://pythonplayground.esri.com/portal\",\n",
       "          username=\"user1\", password=\"password1\")\n",
       "\n",
       ".. code-block:: python\n",
       "\n",
       "    # Usage Example 4: Built-in Login to ArcGIS Enterprise, ignoring SSL errors\n",
       "\n",
       "    gis = GIS(url=\"http://pythonplayground.esri.com/portal\", username=\"user1\",\n",
       "              password=\"password1\", verify_cert=False)\n",
       "\n",
       ".. code-block:: python\n",
       "\n",
       "    # Usage Example 5: Anonymous ArcGIS Online Login with Proxy\n",
       "\n",
       "    gis = GIS(proxy_host='127.0.0.1', proxy_port=8888)\n",
       "\n",
       ".. code-block:: python\n",
       "\n",
       "    # Usage Example 6: PKI Login to ArcGIS Enterprise, using PKCS12 user certificate\n",
       "\n",
       "    gis = GIS(url=\"https://pkienterprise.esri.com/portal\",\n",
       "              cert_file=\"C:\\users\\someuser\\mycert.pfx\", password=\"password1\")\n",
       "\u001b[1;31mInit docstring:\u001b[0m\n",
       "Constructs a GIS object given a url and user credentials to ArcGIS Online\n",
       "or an ArcGIS Portal. User credentials can be passed in using username/password\n",
       "pair, or key_file/cert_file pair (in case of PKI). Supports built-in users, LDAP,\n",
       "PKI, Integrated Windows Authentication (using NTLM and Kerberos) and Anonymous access.\n",
       "\n",
       "If no url is provided, ArcGIS Online is used. If username/password\n",
       "or key/cert files are not provided, logged in user credentials (IWA) or anonymous access is used.\n",
       "\n",
       "Persisted profiles for the GIS can be created by giving the GIS authorization credentials and\n",
       "specifying a profile name. The profile stores all of the authorization credentials (except the password) in the\n",
       "user's home directory in an unencrypted config file named .arcgisprofile. The profile securely stores the password\n",
       "in an O.S. specific password manager through the `keyring <https://pypi.python.org/pypi/keyring>`_ python module.\n",
       "(Note: Linux systems may need additional software installed and configured for proper security) Once a profile has\n",
       "been saved, passing the profile parameter by itself uses the authorization credentials saved in the configuration\n",
       "file/password manager by that profile name. Multiple profiles can be created and used in parallel.\n",
       "\n",
       "If the GIS uses a secure (https) url, certificate verification is performed. If you are using self signed certificates\n",
       "in a testing environment and wish to disable certificate verification, you may specify verify_cert=False to disable\n",
       "certificate verification in the Python process. However, this should not be done in production environments and is\n",
       "strongly discouraged.\n"
      ]
     },
     "metadata": {},
     "output_type": "display_data"
    }
   ],
   "source": [
    "gis?"
   ]
  },
  {
   "cell_type": "markdown",
   "metadata": {},
   "source": [
    "To access a user, use the `user` property of your `gis` object, which gives you an instance of the `UserManager` class.  Then call the `get()` method of the `UserManager` object to pass the user name of the user you are interested in."
   ]
  },
  {
   "cell_type": "code",
   "execution_count": 3,
   "metadata": {},
   "outputs": [],
   "source": [
    "user = gis.users.get('gonzalezmorales_undesa')"
   ]
  },
  {
   "cell_type": "markdown",
   "metadata": {},
   "source": [
    "The ArcGIS API for Python is integrated with Jupyter Notebook to make it easy to visualize and interact with GIS resources. The `user` object has a rich representation that can be queried like this:"
   ]
  },
  {
   "cell_type": "code",
   "execution_count": 4,
   "metadata": {},
   "outputs": [
    {
     "data": {
      "text/html": [
       "<div class=\"9item_container\" style=\"height: auto; overflow: hidden; border: 1px solid #cfcfcf; border-radius: 2px; background: #f6fafa; line-height: 1.21429em; padding: 10px;\">\n",
       "                    <div class=\"item_left\" style=\"width: 210px; float: left;\">\n",
       "                       <a href='https://undesa.maps.arcgis.com/home/user.html?user=gonzalezmorales_undesa' target='_blank'>\n",
       "                        <img src='https://undesa.maps.arcgis.com/home/js/arcgisonline/css/images/no-user-thumb.jpg' class=\"itemThumbnail\">\n",
       "                       </a>\n",
       "                    </div>\n",
       "\n",
       "                    <div class=\"item_right\" style=\"float: none; width: auto; overflow: hidden;\">\n",
       "                        <a href='https://undesa.maps.arcgis.com/home/user.html?user=gonzalezmorales_undesa' target='_blank'><b>Luis Gonzalez</b>\n",
       "                        </a>\n",
       "                        <br/><br/><b>Bio</b>: None\n",
       "                        <br/><b>First Name</b>: Luis\n",
       "                        <br/><b>Last Name</b>: Gonzalez\n",
       "                        <br/><b>Username</b>: gonzalezmorales_undesa\n",
       "                        <br/><b>Joined</b>: May 03, 2017\n",
       "\n",
       "                    </div>\n",
       "                </div>\n",
       "                "
      ],
      "text/plain": [
       "<User username:gonzalezmorales_undesa>"
      ]
     },
     "execution_count": 4,
     "metadata": {},
     "output_type": "execute_result"
    }
   ],
   "source": [
    "user"
   ]
  },
  {
   "cell_type": "markdown",
   "metadata": {},
   "source": [
    "Resources are implemented as Python dictionaries.  You can query for the resource properties using the `resource['property']` notation:"
   ]
  },
  {
   "cell_type": "code",
   "execution_count": 5,
   "metadata": {},
   "outputs": [
    {
     "name": "stdout",
     "output_type": "stream",
     "text": [
      "_gis\n",
      "_portal\n",
      "username\n",
      "thumbnail\n",
      "_workdir\n",
      "_hydrated\n",
      "id\n",
      "fullName\n",
      "availableCredits\n",
      "assignedCredits\n",
      "firstName\n",
      "lastName\n",
      "preferredView\n",
      "description\n",
      "email\n",
      "userType\n",
      "idpUsername\n",
      "favGroupId\n",
      "lastLogin\n",
      "mfaEnabled\n",
      "access\n",
      "storageUsage\n",
      "storageQuota\n",
      "orgId\n",
      "role\n",
      "privileges\n",
      "level\n",
      "userLicenseTypeId\n",
      "disabled\n",
      "tags\n",
      "culture\n",
      "cultureFormat\n",
      "region\n",
      "units\n",
      "created\n",
      "modified\n",
      "provider\n",
      "groups\n"
     ]
    }
   ],
   "source": [
    "for property, value in vars(user).items():\n",
    "    print( property)"
   ]
  },
  {
   "cell_type": "code",
   "execution_count": 6,
   "metadata": {},
   "outputs": [
    {
     "data": {
      "text/plain": [
       "'Luis'"
      ]
     },
     "execution_count": 6,
     "metadata": {},
     "output_type": "execute_result"
    }
   ],
   "source": [
    "user['firstName']"
   ]
  },
  {
   "cell_type": "markdown",
   "metadata": {},
   "source": [
    "The properties are also available as properties on the resource object, so you can use the dot notation to access them:"
   ]
  },
  {
   "cell_type": "code",
   "execution_count": 7,
   "metadata": {},
   "outputs": [
    {
     "data": {
      "text/plain": [
       "'Gonzalez'"
      ]
     },
     "execution_count": 7,
     "metadata": {},
     "output_type": "execute_result"
    }
   ],
   "source": [
    "user.lastName"
   ]
  },
  {
   "cell_type": "markdown",
   "metadata": {},
   "source": [
    "# Accessing and creating content\n",
    "Using the `gis` module, you can search for, access, and manage all your folders, contents, and automate such maintenance workflows as scripts"
   ]
  },
  {
   "cell_type": "markdown",
   "metadata": {},
   "source": [
    "## Search for content in your GIS\n",
    "- Accessing the `content` property of your `gis` object returns an instance of the `ContentManager` class. \n",
    "- You can use the `search` method of the `ContentManager` object to search for items in your GIS\n",
    "- The `query` parameter supports a variety of inputs (see [search reference](http://resources.arcgis.com/en/help/arcgis-rest-api/#/Search_reference/02r3000000mn000000/)).\n"
   ]
  },
  {
   "cell_type": "markdown",
   "metadata": {},
   "source": [
    "### Example 1:\n",
    "Access the `ContentManager` through the `content` property of your `GIS` object to search for items of type _\"feature layer\"_ that have _\"international poverty line\"_ in their title. \n",
    "\n",
    "For each feature layer that gets returned, display its rich representation within the notebook:"
   ]
  },
  {
   "cell_type": "code",
   "execution_count": 8,
   "metadata": {},
   "outputs": [
    {
     "data": {
      "text/html": [
       "<div class=\"item_container\" style=\"height: auto; overflow: hidden; border: 1px solid #cfcfcf; border-radius: 2px; background: #f6fafa; line-height: 1.21429em; padding: 10px;\">\n",
       "                    <div class=\"item_left\" style=\"width: 210px; float: left;\">\n",
       "                       <a href='https://undesa.maps.arcgis.com/home/item.html?id=3faf873faa434ef4afdb7de5770d8504' target='_blank'>\n",
       "                        <img src='data:image/png;base64,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' width='200' height='133' class=\"itemThumbnail\">\n",
       "                       </a>\n",
       "                    </div>\n",
       "\n",
       "                    <div class=\"item_right\"     style=\"float: none; width: auto; overflow: hidden;\">\n",
       "                        <a href='https://undesa.maps.arcgis.com/home/item.html?id=3faf873faa434ef4afdb7de5770d8504' target='_blank'><b>Indicator 1.1.1 - SI_POV_EMP1_youth - Proportion of employed population below the international poverty line of US$1.90 per day (the working poor)</b>\n",
       "                        </a>\n",
       "                        <br/>SI_POV_EMP1_youth - Proportion of employed population below the international poverty line of US$1.90 per day (the working poor)<img src='https://undesa.maps.arcgis.com/home/js/jsapi/esri/css/images/item_type_icons/featureshosted16.png' style=\"vertical-align:middle;\">Feature Layer Collection by gonzalezmorales_undesa\n",
       "                        <br/>Last Modified: February 28, 2018\n",
       "                        <br/>0 comments, 21 views\n",
       "                    </div>\n",
       "                </div>\n",
       "                "
      ],
      "text/plain": [
       "<Item title:\"Indicator 1.1.1 - SI_POV_EMP1_youth - Proportion of employed population below the international poverty line of US$1.90 per day (the working poor)\" type:Feature Layer Collection owner:gonzalezmorales_undesa>"
      ]
     },
     "metadata": {},
     "output_type": "display_data"
    },
    {
     "data": {
      "text/html": [
       "<div class=\"item_container\" style=\"height: auto; overflow: hidden; border: 1px solid #cfcfcf; border-radius: 2px; background: #f6fafa; line-height: 1.21429em; padding: 10px;\">\n",
       "                    <div class=\"item_left\" style=\"width: 210px; float: left;\">\n",
       "                       <a href='https://undesa.maps.arcgis.com/home/item.html?id=c5053bd8b8344112933f52519bf1cf90' target='_blank'>\n",
       "                        <img src='data:image/png;base64,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' width='200' height='133' class=\"itemThumbnail\">\n",
       "                       </a>\n",
       "                    </div>\n",
       "\n",
       "                    <div class=\"item_right\"     style=\"float: none; width: auto; overflow: hidden;\">\n",
       "                        <a href='https://undesa.maps.arcgis.com/home/item.html?id=c5053bd8b8344112933f52519bf1cf90' target='_blank'><b>Indicator 1.1.1: Proportion of population below the international poverty line of US$1.90 per day, total (%)</b>\n",
       "                        </a>\n",
       "                        <br/>Indicator 1.1.1: Proportion of population below the international poverty line of US$1.90 per day, total (%)<img src='https://undesa.maps.arcgis.com/home/js/jsapi/esri/css/images/item_type_icons/featureshosted16.png' style=\"vertical-align:middle;\">Feature Layer Collection by unstats_admin\n",
       "                        <br/>Last Modified: September 20, 2018\n",
       "                        <br/>0 comments, 30 views\n",
       "                    </div>\n",
       "                </div>\n",
       "                "
      ],
      "text/plain": [
       "<Item title:\"Indicator 1.1.1: Proportion of population below the international poverty line of US$1.90 per day, total (%)\" type:Feature Layer Collection owner:unstats_admin>"
      ]
     },
     "metadata": {},
     "output_type": "display_data"
    },
    {
     "data": {
      "text/html": [
       "<div class=\"item_container\" style=\"height: auto; overflow: hidden; border: 1px solid #cfcfcf; border-radius: 2px; background: #f6fafa; line-height: 1.21429em; padding: 10px;\">\n",
       "                    <div class=\"item_left\" style=\"width: 210px; float: left;\">\n",
       "                       <a href='https://undesa.maps.arcgis.com/home/item.html?id=80f95908350041d7a468c5cdf959cd0d' target='_blank'>\n",
       "                        <img src='data:image/png;base64,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' width='200' height='133' class=\"itemThumbnail\">\n",
       "                       </a>\n",
       "                    </div>\n",
       "\n",
       "                    <div class=\"item_right\"     style=\"float: none; width: auto; overflow: hidden;\">\n",
       "                        <a href='https://undesa.maps.arcgis.com/home/item.html?id=80f95908350041d7a468c5cdf959cd0d' target='_blank'><b>Indicator 1.1.1 (SI_POV_EMP1): Proportion of employed population below the international poverty line of US$1.90 per day (the working poor), total and by sex, age (%)</b>\n",
       "                        </a>\n",
       "                        <br/>SI_POV_EMP1: Proportion of employed population below the international poverty line of US$1.90 per day (the working poor), total and by sex, age (%)<img src='https://undesa.maps.arcgis.com/home/js/jsapi/esri/css/images/item_type_icons/featureshosted16.png' style=\"vertical-align:middle;\">Feature Layer Collection by mark.iliffe_undesa\n",
       "                        <br/>Last Modified: April 05, 2018\n",
       "                        <br/>0 comments, 1 views\n",
       "                    </div>\n",
       "                </div>\n",
       "                "
      ],
      "text/plain": [
       "<Item title:\"Indicator 1.1.1 (SI_POV_EMP1): Proportion of employed population below the international poverty line of US$1.90 per day (the working poor), total and by sex, age (%)\" type:Feature Layer Collection owner:mark.iliffe_undesa>"
      ]
     },
     "metadata": {},
     "output_type": "display_data"
    },
    {
     "data": {
      "text/html": [
       "<div class=\"item_container\" style=\"height: auto; overflow: hidden; border: 1px solid #cfcfcf; border-radius: 2px; background: #f6fafa; line-height: 1.21429em; padding: 10px;\">\n",
       "                    <div class=\"item_left\" style=\"width: 210px; float: left;\">\n",
       "                       <a href='https://undesa.maps.arcgis.com/home/item.html?id=aa929d1a8cbc44dd834d6c1ddd4452b9' target='_blank'>\n",
       "                        <img src='data:image/png;base64,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' width='200' height='133' class=\"itemThumbnail\">\n",
       "                       </a>\n",
       "                    </div>\n",
       "\n",
       "                    <div class=\"item_right\"     style=\"float: none; width: auto; overflow: hidden;\">\n",
       "                        <a href='https://undesa.maps.arcgis.com/home/item.html?id=aa929d1a8cbc44dd834d6c1ddd4452b9' target='_blank'><b>Indicator 1.1.1 - SI_POV_EMP1_adults - Proportion of employed population below the international poverty line of US$1.90 per day (the working poor)</b>\n",
       "                        </a>\n",
       "                        <br/>SI_POV_EMP1_adults - Proportion of employed population below the international poverty line of US$1.90 per day (the working poor)<img src='https://undesa.maps.arcgis.com/home/js/jsapi/esri/css/images/item_type_icons/featureshosted16.png' style=\"vertical-align:middle;\">Feature Layer Collection by gonzalezmorales_undesa\n",
       "                        <br/>Last Modified: February 28, 2018\n",
       "                        <br/>0 comments, 17 views\n",
       "                    </div>\n",
       "                </div>\n",
       "                "
      ],
      "text/plain": [
       "<Item title:\"Indicator 1.1.1 - SI_POV_EMP1_adults - Proportion of employed population below the international poverty line of US$1.90 per day (the working poor)\" type:Feature Layer Collection owner:gonzalezmorales_undesa>"
      ]
     },
     "metadata": {},
     "output_type": "display_data"
    },
    {
     "data": {
      "text/html": [
       "<div class=\"item_container\" style=\"height: auto; overflow: hidden; border: 1px solid #cfcfcf; border-radius: 2px; background: #f6fafa; line-height: 1.21429em; padding: 10px;\">\n",
       "                    <div class=\"item_left\" style=\"width: 210px; float: left;\">\n",
       "                       <a href='https://undesa.maps.arcgis.com/home/item.html?id=deb1f4a7e2e14d78a113c53cba2838de' target='_blank'>\n",
       "                        <img src='data:image/png;base64,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' width='200' height='133' class=\"itemThumbnail\">\n",
       "                       </a>\n",
       "                    </div>\n",
       "\n",
       "                    <div class=\"item_right\"     style=\"float: none; width: auto; overflow: hidden;\">\n",
       "                        <a href='https://undesa.maps.arcgis.com/home/item.html?id=deb1f4a7e2e14d78a113c53cba2838de' target='_blank'><b>Indicator 1.1.1: Employed population below international poverty line, by sex and age (percent)</b>\n",
       "                        </a>\n",
       "                        <br/>Indicator 1.1.1: Employed population below international poverty line, by sex and age (percent)<img src='https://undesa.maps.arcgis.com/home/js/jsapi/esri/css/images/item_type_icons/featureshosted16.png' style=\"vertical-align:middle;\">Feature Layer Collection by unstats_admin\n",
       "                        <br/>Last Modified: June 12, 2019\n",
       "                        <br/>0 comments, 381 views\n",
       "                    </div>\n",
       "                </div>\n",
       "                "
      ],
      "text/plain": [
       "<Item title:\"Indicator 1.1.1: Employed population below international poverty line, by sex and age (percent)\" type:Feature Layer Collection owner:unstats_admin>"
      ]
     },
     "metadata": {},
     "output_type": "display_data"
    },
    {
     "data": {
      "text/html": [
       "<div class=\"item_container\" style=\"height: auto; overflow: hidden; border: 1px solid #cfcfcf; border-radius: 2px; background: #f6fafa; line-height: 1.21429em; padding: 10px;\">\n",
       "                    <div class=\"item_left\" style=\"width: 210px; float: left;\">\n",
       "                       <a href='https://undesa.maps.arcgis.com/home/item.html?id=087a513e2b4b49998f692f659d20af47' target='_blank'>\n",
       "                        <img src='data:image/png;base64,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' width='200' height='133' class=\"itemThumbnail\">\n",
       "                       </a>\n",
       "                    </div>\n",
       "\n",
       "                    <div class=\"item_right\"     style=\"float: none; width: auto; overflow: hidden;\">\n",
       "                        <a href='https://undesa.maps.arcgis.com/home/item.html?id=087a513e2b4b49998f692f659d20af47' target='_blank'><b>Indicator 1.1.1 - SI_POV_EMP1 -Proportion of employed population below the international poverty line of US$1.90 per day (the working poor), total and by sex, age (%)</b>\n",
       "                        </a>\n",
       "                        <br/>Proportion of employed population below the international poverty line of US$1.90 per day (the working poor), total and by sex, age (%)\n",
       "<img src='https://undesa.maps.arcgis.com/home/js/jsapi/esri/css/images/item_type_icons/featureshosted16.png' style=\"vertical-align:middle;\">Feature Layer Collection by gonzalezmorales_undesa\n",
       "                        <br/>Last Modified: February 25, 2018\n",
       "                        <br/>0 comments, 5 views\n",
       "                    </div>\n",
       "                </div>\n",
       "                "
      ],
      "text/plain": [
       "<Item title:\"Indicator 1.1.1 - SI_POV_EMP1 -Proportion of employed population below the international poverty line of US$1.90 per day (the working poor), total and by sex, age (%)\" type:Feature Layer Collection owner:gonzalezmorales_undesa>"
      ]
     },
     "metadata": {},
     "output_type": "display_data"
    },
    {
     "data": {
      "text/html": [
       "<div class=\"item_container\" style=\"height: auto; overflow: hidden; border: 1px solid #cfcfcf; border-radius: 2px; background: #f6fafa; line-height: 1.21429em; padding: 10px;\">\n",
       "                    <div class=\"item_left\" style=\"width: 210px; float: left;\">\n",
       "                       <a href='https://undesa.maps.arcgis.com/home/item.html?id=87d65e39e6cd48e885bba1fd48b5f653' target='_blank'>\n",
       "                        <img src='data:image/png;base64,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' width='200' height='133' class=\"itemThumbnail\">\n",
       "                       </a>\n",
       "                    </div>\n",
       "\n",
       "                    <div class=\"item_right\"     style=\"float: none; width: auto; overflow: hidden;\">\n",
       "                        <a href='https://undesa.maps.arcgis.com/home/item.html?id=87d65e39e6cd48e885bba1fd48b5f653' target='_blank'><b>Indicator 1.1.1: Proportion of population below international poverty line (percent)</b>\n",
       "                        </a>\n",
       "                        <br/>Indicator 1.1.1: Proportion of population below international poverty line (percent)<img src='https://undesa.maps.arcgis.com/home/js/jsapi/esri/css/images/item_type_icons/featureshosted16.png' style=\"vertical-align:middle;\">Feature Layer Collection by tbutcher_undesa\n",
       "                        <br/>Last Modified: September 17, 2018\n",
       "                        <br/>0 comments, 3 views\n",
       "                    </div>\n",
       "                </div>\n",
       "                "
      ],
      "text/plain": [
       "<Item title:\"Indicator 1.1.1: Proportion of population below international poverty line (percent)\" type:Feature Layer Collection owner:tbutcher_undesa>"
      ]
     },
     "metadata": {},
     "output_type": "display_data"
    },
    {
     "data": {
      "text/html": [
       "<div class=\"item_container\" style=\"height: auto; overflow: hidden; border: 1px solid #cfcfcf; border-radius: 2px; background: #f6fafa; line-height: 1.21429em; padding: 10px;\">\n",
       "                    <div class=\"item_left\" style=\"width: 210px; float: left;\">\n",
       "                       <a href='https://undesa.maps.arcgis.com/home/item.html?id=0a00fca305084a6e8f2f9d1e79c9d692' target='_blank'>\n",
       "                        <img src='data:image/png;base64,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' width='200' height='133' class=\"itemThumbnail\">\n",
       "                       </a>\n",
       "                    </div>\n",
       "\n",
       "                    <div class=\"item_right\"     style=\"float: none; width: auto; overflow: hidden;\">\n",
       "                        <a href='https://undesa.maps.arcgis.com/home/item.html?id=0a00fca305084a6e8f2f9d1e79c9d692' target='_blank'><b>Indicator 1.1.1 (SI_POV_DAY1): Proportion of population below the international poverty line of US$1.90 per day, total (%)</b>\n",
       "                        </a>\n",
       "                        <br/>SI_POV_DAY1: Proportion of population below the international poverty line of US$1.90 per day, total (%)<img src='https://undesa.maps.arcgis.com/home/js/jsapi/esri/css/images/item_type_icons/featureshosted16.png' style=\"vertical-align:middle;\">Feature Layer Collection by mark.iliffe_undesa\n",
       "                        <br/>Last Modified: April 05, 2018\n",
       "                        <br/>0 comments, 7 views\n",
       "                    </div>\n",
       "                </div>\n",
       "                "
      ],
      "text/plain": [
       "<Item title:\"Indicator 1.1.1 (SI_POV_DAY1): Proportion of population below the international poverty line of US$1.90 per day, total (%)\" type:Feature Layer Collection owner:mark.iliffe_undesa>"
      ]
     },
     "metadata": {},
     "output_type": "display_data"
    },
    {
     "data": {
      "text/html": [
       "<div class=\"item_container\" style=\"height: auto; overflow: hidden; border: 1px solid #cfcfcf; border-radius: 2px; background: #f6fafa; line-height: 1.21429em; padding: 10px;\">\n",
       "                    <div class=\"item_left\" style=\"width: 210px; float: left;\">\n",
       "                       <a href='https://undesa.maps.arcgis.com/home/item.html?id=f52f7fef78c6465c8741ff942df991cf' target='_blank'>\n",
       "                        <img src='data:image/png;base64,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' width='200' height='133' class=\"itemThumbnail\">\n",
       "                       </a>\n",
       "                    </div>\n",
       "\n",
       "                    <div class=\"item_right\"     style=\"float: none; width: auto; overflow: hidden;\">\n",
       "                        <a href='https://undesa.maps.arcgis.com/home/item.html?id=f52f7fef78c6465c8741ff942df991cf' target='_blank'><b>Indicator 1.1.1 - SI_POV_DAY1 - Proportion of population below the international poverty line of US$1.90 per day, total (%)</b>\n",
       "                        </a>\n",
       "                        <br/>Proportion of population below the international poverty line of US$1.90 per day, total (%)<img src='https://undesa.maps.arcgis.com/home/js/jsapi/esri/css/images/item_type_icons/featureshosted16.png' style=\"vertical-align:middle;\">Feature Layer Collection by gonzalezmorales_undesa\n",
       "                        <br/>Last Modified: February 25, 2018\n",
       "                        <br/>0 comments, 456 views\n",
       "                    </div>\n",
       "                </div>\n",
       "                "
      ],
      "text/plain": [
       "<Item title:\"Indicator 1.1.1 - SI_POV_DAY1 - Proportion of population below the international poverty line of US$1.90 per day, total (%)\" type:Feature Layer Collection owner:gonzalezmorales_undesa>"
      ]
     },
     "metadata": {},
     "output_type": "display_data"
    },
    {
     "data": {
      "text/html": [
       "<div class=\"item_container\" style=\"height: auto; overflow: hidden; border: 1px solid #cfcfcf; border-radius: 2px; background: #f6fafa; line-height: 1.21429em; padding: 10px;\">\n",
       "                    <div class=\"item_left\" style=\"width: 210px; float: left;\">\n",
       "                       <a href='https://undesa.maps.arcgis.com/home/item.html?id=2a01c114eff64314b1fd4e7a4bc169ce' target='_blank'>\n",
       "                        <img src='data:image/png;base64,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' width='200' height='133' class=\"itemThumbnail\">\n",
       "                       </a>\n",
       "                    </div>\n",
       "\n",
       "                    <div class=\"item_right\"     style=\"float: none; width: auto; overflow: hidden;\">\n",
       "                        <a href='https://undesa.maps.arcgis.com/home/item.html?id=2a01c114eff64314b1fd4e7a4bc169ce' target='_blank'><b>Indicator 1.1.1: Proportion of employed population below the international poverty line of US$1.90 per day (the working poor), total and by sex, age (%)</b>\n",
       "                        </a>\n",
       "                        <br/>Indicator 1.1.1: Proportion of employed population below the international poverty line of US$1.90 per day (the working poor), total and by sex, age (%)<img src='https://undesa.maps.arcgis.com/home/js/jsapi/esri/css/images/item_type_icons/featureshosted16.png' style=\"vertical-align:middle;\">Feature Layer Collection by unstats_admin\n",
       "                        <br/>Last Modified: September 20, 2018\n",
       "                        <br/>0 comments, 70 views\n",
       "                    </div>\n",
       "                </div>\n",
       "                "
      ],
      "text/plain": [
       "<Item title:\"Indicator 1.1.1: Proportion of employed population below the international poverty line of US$1.90 per day (the working poor), total and by sex, age (%)\" type:Feature Layer Collection owner:unstats_admin>"
      ]
     },
     "metadata": {},
     "output_type": "display_data"
    }
   ],
   "source": [
    "from IPython.display import display\n",
    "\n",
    "items = gis.content.search(query='title:international poverty line', \n",
    "                           item_type='Feature Layer')\n",
    "for item in items:\n",
    "    display(item)"
   ]
  },
  {
   "cell_type": "markdown",
   "metadata": {},
   "source": [
    "### Example 2:\n",
    "\n",
    "Limit the search to only your own content (excluding items from other users that are shared across the organization) by specifying the owner in the query string"
   ]
  },
  {
   "cell_type": "code",
   "execution_count": null,
   "metadata": {},
   "outputs": [],
   "source": [
    "my_items = gis.content.search(query=\"owner:unstats_admin\", item_type=\"csv\", max_items=800)\n",
    "\n",
    "for item in my_items[0:10]:\n",
    "    print(item)\n",
    "    display(item)"
   ]
  },
  {
   "cell_type": "markdown",
   "metadata": {},
   "source": [
    "### Example 3:\n",
    "Use one asterisk * for multiple character wild card search, and one question mark ? for single character:"
   ]
  },
  {
   "cell_type": "code",
   "execution_count": null,
   "metadata": {},
   "outputs": [],
   "source": [
    "# search for content that begin with a prefix - say 'unstats'\n",
    "search_result_unstats = gis.content.search(query='owner:unstats*')\n",
    "search_result_unstats"
   ]
  },
  {
   "cell_type": "markdown",
   "metadata": {},
   "source": [
    "### Example 4:\n",
    "Once you know an item's id (called itemId), you can access it using the get() method instead of searching for it."
   ]
  },
  {
   "cell_type": "code",
   "execution_count": null,
   "metadata": {},
   "outputs": [],
   "source": [
    "# lets get the itemid of first item from previous query\n",
    "first_item = search_result_unstats[0]\n",
    "known_item_id = first_item.id\n",
    "print(known_item_id)"
   ]
  },
  {
   "cell_type": "code",
   "execution_count": null,
   "metadata": {},
   "outputs": [],
   "source": [
    "# Use the get() to access this item\n",
    "online_banking_item = gis.content.get(known_item_id)\n",
    "online_banking_item"
   ]
  },
  {
   "cell_type": "markdown",
   "metadata": {},
   "source": [
    "## Search for content published by users outside your organization\n",
    "\n",
    "To search for content published by other named users and shared publicly, turn the `outside_org` flag to `True`:"
   ]
  },
  {
   "cell_type": "code",
   "execution_count": null,
   "metadata": {},
   "outputs": [],
   "source": [
    "sdgs = gis.content.search(query=\"lao\", item_type = \"web scene\",\n",
    "                                           sort_field=\"numViews\" ,sort_order=\"asc\",\n",
    "                                           max_items = 15, outside_org=True)\n",
    "for item in sdgs:\n",
    "    display(item)"
   ]
  },
  {
   "cell_type": "markdown",
   "metadata": {},
   "source": [
    "## Create new content\n",
    "Use the `add()` method on the `ContentManager` object (which is accessed through the `content` property of your `GIS` object)\n",
    "- The `add()` method accepts a dictionary containing the properties of the item being created\n",
    "- The optional `data` parameter accepts a string path to a file\n",
    "- The optional `metadata` parameter specifies an XML files containing metadata information\n",
    "\n",
    "All the content you add this way is added to the authenticated user's content"
   ]
  },
  {
   "cell_type": "markdown",
   "metadata": {},
   "source": [
    "### Example 5\n",
    "Add a csv file as a csv item"
   ]
  },
  {
   "cell_type": "code",
   "execution_count": null,
   "metadata": {},
   "outputs": [],
   "source": [
    "csv_path = r\"https://raw.githubusercontent.com/UNStats/FIS4SDGs/master/unsd/data/csv/country_1.1.1-SI_POV_DAY1_wide.csv\"\n",
    "csv_properties={'title':'Proportion of population below international poverty line (percent)',\n",
    "                'description':'Goal 1: End poverty in all its forms everywhere <br> TargetCode 1.1: By 2030, eradicate extreme poverty for all people everywhere, currently measured as people living on less than $1.25 a day <br> Indicator 1.1.1: Proportion of population below the international poverty line, by sex, age, employment status and geographical location (urban/rural)<br>Series: SI_POV_DAY1 - Proportion of population below international poverty line (percent)',\n",
    "                'tags':'poverty line, poverty, standard of living, basic needs'}\n",
    "thumbnail_path = r\"https://raw.githubusercontent.com/UNStats/FIS4SDGs/master/globalResources/sdgIcons120x120/SDG01.jpg\"\n",
    "\n",
    "test_csv_item = gis.content.add(item_properties=csv_properties, \n",
    "                                data=csv_path,\n",
    "                                thumbnail = thumbnail_path)"
   ]
  },
  {
   "cell_type": "markdown",
   "metadata": {},
   "source": [
    "The `add()` method returns an object of type arcgis.gis.Item representing the added item. In Jupyter notebook environment, you can visualize it by querying the item:"
   ]
  },
  {
   "cell_type": "code",
   "execution_count": null,
   "metadata": {},
   "outputs": [],
   "source": [
    "test_csv_item"
   ]
  },
  {
   "cell_type": "markdown",
   "metadata": {},
   "source": [
    "*Note*: You can specify most properties of an item as a dictionary to the `item_properties` parameter. Refer to the [API ref doc ](http://esri.github.io/arcgis-python-api/apidoc/html/arcgis.gis.html#arcgis.gis.ContentManager.add) of this method for a definitive list. \n",
    "\n",
    "You could also specify an empty dictionary to this parameter, the downside is search cannot index these items efficiently if it does not have sufficient metadata information, hence that is not a good programming practice.\n",
    "\n",
    "The following is a list of all the properties of the csv item just created:"
   ]
  },
  {
   "cell_type": "code",
   "execution_count": null,
   "metadata": {},
   "outputs": [],
   "source": [
    "for property, value in vars(test_csv_item).items():\n",
    "    print( property)"
   ]
  },
  {
   "cell_type": "markdown",
   "metadata": {},
   "source": [
    "## Publishing an item as a web layer\n",
    "Call the `publish()` method on them following types of items to publish them into hosted web layers:\n",
    "- csv\n",
    "- service definitions\n",
    "- file geodatabases\n",
    "- shape files\n",
    "- packages such as tile, scene and vector tile \n",
    "\n",
    "The `publish()` method accepts an optional `publish_parameters` dictionary specifying certain parameters supported by the publish REST API\n",
    "\n",
    "The `address_fields` parameter allows to specify which field in a csv or dataset contains address fields suitable for geocoding.\n"
   ]
  },
  {
   "cell_type": "markdown",
   "metadata": {},
   "source": [
    "### Example 6\n",
    "Publish the csv from the previous example into a web feature layer. \n",
    "\n",
    "This csv contains latitude and longitude coordinates of each point, hence the `address_fields` parameter can be ignored. \n",
    "The `publish()` method returns an `Item` object corresponding to the web layer created."
   ]
  },
  {
   "cell_type": "code",
   "execution_count": null,
   "metadata": {},
   "outputs": [],
   "source": [
    "test_feature_layer_item2 = test_csv_item.publish()"
   ]
  },
  {
   "cell_type": "code",
   "execution_count": null,
   "metadata": {},
   "outputs": [],
   "source": [
    "test_feature_layer_item2"
   ]
  },
  {
   "cell_type": "markdown",
   "metadata": {},
   "source": [
    "Notice that the GIS used the same metadata (thumbnail, title, description) of the source item used for publishing. This helps provide context on what the new item is and also as a good starting point for the metadata which you can edit later."
   ]
  },
  {
   "cell_type": "markdown",
   "metadata": {},
   "source": [
    "## Importing data from a pandas data frame\n",
    "\n",
    "- Pandas is a popular data analysis library for Python. \n",
    "- The data frame object of pandas allows to store and analyze tabular information. \n",
    "- The `import_data() method` allows to import pandas dataframes as an `arcgis.features.FeatureCollection` object \n",
    "- The feature collection can then be added as an `item` to your `GIS`.\n",
    "\n",
    "### Example 7\n",
    "Create a new pandas data frame from a csv file, filter that data through pandas, and add it as a feature collection."
   ]
  },
  {
   "cell_type": "code",
   "execution_count": null,
   "metadata": {
    "scrolled": true
   },
   "outputs": [],
   "source": [
    "# read csv as a pandas dataframe\n",
    "import pandas\n",
    "\n",
    "SI_POV_DAY1_df = pandas.read_csv(r'https://raw.githubusercontent.com/UNStats/FIS4SDGs/master/unsd/data/csv/1.1.1-SI_POV_DAY1_long.csv',encoding ='latin1')\n",
    "SI_POV_DAY1_df"
   ]
  },
  {
   "cell_type": "markdown",
   "metadata": {},
   "source": [
    "List the name of all columns in the data frame:"
   ]
  },
  {
   "cell_type": "code",
   "execution_count": null,
   "metadata": {},
   "outputs": [],
   "source": [
    "list(SI_POV_DAY1_df)"
   ]
  },
  {
   "cell_type": "code",
   "execution_count": null,
   "metadata": {},
   "outputs": [],
   "source": [
    "# find Value of Ethiopia after 1999\n",
    "ethiopia = SI_POV_DAY1_df.loc[(SI_POV_DAY1_df.GeoArea_Desc == 'Ethiopia') & (SI_POV_DAY1_df.Year > 1999)][['Year','Value']]\n",
    "ethiopia"
   ]
  },
  {
   "cell_type": "code",
   "execution_count": null,
   "metadata": {},
   "outputs": [],
   "source": [
    "# only select values for years after 2009:\n",
    "SI_POV_DAY1_2015 = SI_POV_DAY1_df.loc[(SI_POV_DAY1_df.Year == 2015)]\n",
    "SI_POV_DAY1_2015"
   ]
  },
  {
   "cell_type": "markdown",
   "metadata": {},
   "source": [
    "Import the data frame as a feature collection:"
   ]
  },
  {
   "cell_type": "code",
   "execution_count": null,
   "metadata": {},
   "outputs": [],
   "source": [
    "SI_POV_DAY1_2015_fc = gis.content.import_data(SI_POV_DAY1_2015)\n",
    "SI_POV_DAY1_2015_fc"
   ]
  },
  {
   "cell_type": "markdown",
   "metadata": {},
   "source": [
    "Convert the feature collection to JSON and add it as a text based item to the GIS:"
   ]
  },
  {
   "cell_type": "code",
   "execution_count": null,
   "metadata": {},
   "outputs": [],
   "source": [
    "import json\n",
    "SI_POV_DAY1_2015_fc_dict = dict(SI_POV_DAY1_2015_fc.properties)\n",
    "SI_POV_DAY1_2015_json = json.dumps({\"featureCollection\": {\"layers\": [SI_POV_DAY1_2015_fc_dict]}})"
   ]
  },
  {
   "cell_type": "code",
   "execution_count": null,
   "metadata": {},
   "outputs": [],
   "source": [
    "SI_POV_DAY1_2015_item_properties = {'title': 'Proportion of population below international poverty line',\n",
    "                        'description':'Example demonstrating conversion of pandas ' + \\\n",
    "                         'dataframe object to a GIS item',\n",
    "                        'tags': 'arcgis python api, pandas, csv',\n",
    "                        'text':SI_POV_DAY1_2015_json,\n",
    "                        'type':'Feature Collection'}\n",
    "\n",
    "SI_POV_DAY1_2015_item = gis.content.add(SI_POV_DAY1_2015_item_properties)\n",
    "SI_POV_DAY1_2015_item"
   ]
  },
  {
   "cell_type": "markdown",
   "metadata": {},
   "source": [
    "**Note**: The `add()` method was used to add the `FeatureCollection` object in memory as an `item` on the `GIS`. Notice that the `text` property was used to pass the JSON representation of the feature collection, and the `type` property to indicate the item type.  You can use the same method to publish web maps and web scenes."
   ]
  },
  {
   "cell_type": "markdown",
   "metadata": {},
   "source": [
    "## Publishing an empty service\n",
    "The `ContentManager` class allows to publish a new service without any content, using the `create_service()` method (e.g., in order to add content later by editing the servcie from client applications).\n",
    "\n",
    "Before creating a service, check whether the desired unique service name is available using the `is_service_name_available()` method."
   ]
  },
  {
   "cell_type": "code",
   "execution_count": null,
   "metadata": {},
   "outputs": [],
   "source": [
    "# check if service name is available\n",
    "gis.content.is_service_name_available(service_name= \"awesome_python\", service_type = 'featureService')"
   ]
  },
  {
   "cell_type": "code",
   "execution_count": null,
   "metadata": {},
   "outputs": [],
   "source": [
    "# let us publish an empty service\n",
    "empty_service_item = gis.content.create_service(name='awesome_python', service_type='featureService')\n",
    "empty_service_item"
   ]
  },
  {
   "cell_type": "code",
   "execution_count": null,
   "metadata": {},
   "outputs": [],
   "source": [
    "# access the layers property of the item\n",
    "empty_service_item.layers"
   ]
  },
  {
   "cell_type": "markdown",
   "metadata": {},
   "source": [
    "# Organizing content\n",
    "\n",
    "The `create_folder()` and `delete_folder()` methods available on the `ContentManager` class can be used to manage folders. \n",
    "\n",
    "Once folders are created, the `move()` method is used to move content into and out them.\n",
    "\n",
    "### Example 8\n",
    "Create a folder called 'tests' and move the `SI_POV_DAY1_2015_item` into it"
   ]
  },
  {
   "cell_type": "code",
   "execution_count": null,
   "metadata": {},
   "outputs": [],
   "source": [
    "# create new folder\n",
    "gis.content.create_folder(folder= 'tests')"
   ]
  },
  {
   "cell_type": "code",
   "execution_count": null,
   "metadata": {},
   "outputs": [],
   "source": [
    "# move the SI_POV_DAY1_2015_item into the tests folder\n",
    "SI_POV_DAY1_2015_item.move(folder= 'tests')"
   ]
  },
  {
   "cell_type": "code",
   "execution_count": null,
   "metadata": {},
   "outputs": [],
   "source": [
    "# move the empty_service_item into the tests folder\n",
    "empty_service_item.move(folder= 'tests')"
   ]
  },
  {
   "cell_type": "markdown",
   "metadata": {},
   "source": [
    "To move content out of folders to root, call the `move()` method and specify `/` as folder name"
   ]
  },
  {
   "cell_type": "code",
   "execution_count": null,
   "metadata": {},
   "outputs": [],
   "source": [
    "# move back to root\n",
    "empty_service_item.move(folder='/')"
   ]
  },
  {
   "cell_type": "markdown",
   "metadata": {},
   "source": [
    "# Managing content\n",
    "\n",
    "As an organization matures and expands its GIS, users add items of various types and properties with varying relationships to one another. \n",
    "\n",
    "This section demonstrates how to \n",
    "- retrieve item properties\n",
    "- delete an existing item\n",
    "- examine relationships between items"
   ]
  },
  {
   "cell_type": "markdown",
   "metadata": {},
   "source": [
    "## Access an item"
   ]
  },
  {
   "cell_type": "code",
   "execution_count": null,
   "metadata": {},
   "outputs": [],
   "source": [
    "#access an Item\n",
    "SI_POV_DAY1_2015_item = gis.content.get('f4b8621d0c9b466d8f3222e448c5329d')\n",
    "SI_POV_DAY1_2015_item"
   ]
  },
  {
   "cell_type": "code",
   "execution_count": null,
   "metadata": {},
   "outputs": [],
   "source": [
    "# item id\n",
    "SI_POV_DAY1_2015_item.id"
   ]
  },
  {
   "cell_type": "code",
   "execution_count": null,
   "metadata": {},
   "outputs": [],
   "source": [
    "# title\n",
    "SI_POV_DAY1_2015_item.title"
   ]
  },
  {
   "cell_type": "code",
   "execution_count": null,
   "metadata": {},
   "outputs": [],
   "source": [
    "# tags\n",
    "SI_POV_DAY1_2015_item.tags"
   ]
  },
  {
   "cell_type": "markdown",
   "metadata": {},
   "source": [
    "## Updating item properties\n",
    "You can update any of the Items properties using the `update()` method. It accepts parameters similar to `add()` method."
   ]
  },
  {
   "cell_type": "code",
   "execution_count": null,
   "metadata": {},
   "outputs": [],
   "source": [
    "# update the tags\n",
    "SI_POV_DAY1_2015_item.update(item_properties={'tags':'poverty, test, new Tag'})"
   ]
  },
  {
   "cell_type": "code",
   "execution_count": null,
   "metadata": {},
   "outputs": [],
   "source": [
    "# updating thumbnail\n",
    "SI_POV_DAY1_2015_item.update(thumbnail= r'https://raw.githubusercontent.com/UNStats/FIS4SDGs/master/globalResources/sdgIcons120x120/SDG01.jpg')"
   ]
  },
  {
   "cell_type": "code",
   "execution_count": null,
   "metadata": {
    "scrolled": true
   },
   "outputs": [],
   "source": [
    "SI_POV_DAY1_2015_item"
   ]
  },
  {
   "cell_type": "markdown",
   "metadata": {},
   "source": [
    "## Downloading items\n",
    "Downloading components of your items, such as the thumbnail, data, or metadata, is helpful in order to archive content or migrate content.\n",
    "\n",
    "### Download item data\n",
    "The `get_data()` function reads the binary or text data associated with an item and returns it as a byte array.\n",
    "- If the text data is JSON, it converts the data to a Python dictionary. If it is another text format, it returns the file as a string.\n",
    "- If data is not text, binary files are returned along with the path to where the data is downloaded."
   ]
  },
  {
   "cell_type": "code",
   "execution_count": null,
   "metadata": {},
   "outputs": [],
   "source": [
    "ports_csv_item = gis.content.get('a184c6a497f848f098f3960ec94f7443')\n",
    "ports_csv_item"
   ]
  },
  {
   "cell_type": "markdown",
   "metadata": {},
   "source": [
    "The data for a csv item is the csv file itself. It's downloaded to your default temporary directory"
   ]
  },
  {
   "cell_type": "code",
   "execution_count": null,
   "metadata": {},
   "outputs": [],
   "source": [
    "ports_csv_item.get_data()"
   ]
  },
  {
   "cell_type": "markdown",
   "metadata": {},
   "source": [
    "## Download metadata\n",
    "Metadata can be downloaded into an XML file using the `download_metadata()` method. Once we have the XML file we can edit it and then modify existing portal items by entering the file name as the metadata parameter of the Item.update() method. You can also add it with the metadata parameter on the ContentManager.add() method when creating new content. See the specific documentation for enabling metadata with ArcGIS Online or ArcGIS Enterprise."
   ]
  }
 ],
 "metadata": {
  "kernelspec": {
   "display_name": "Python 3",
   "language": "python",
   "name": "python3"
  },
  "language_info": {
   "codemirror_mode": {
    "name": "ipython",
    "version": 3
   },
   "file_extension": ".py",
   "mimetype": "text/x-python",
   "name": "python",
   "nbconvert_exporter": "python",
   "pygments_lexer": "ipython3",
   "version": "3.6.8"
  }
 },
 "nbformat": 4,
 "nbformat_minor": 2
}
