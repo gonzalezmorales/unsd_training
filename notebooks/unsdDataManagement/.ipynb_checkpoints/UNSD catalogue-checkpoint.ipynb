{
 "cells": [
  {
   "cell_type": "markdown",
   "metadata": {},
   "source": [
    "# Get catalogue of feature layers published by UNSD in SDG Open Data Site "
   ]
  },
  {
   "cell_type": "code",
   "execution_count": 1,
   "metadata": {},
   "outputs": [],
   "source": [
    "from arcgis.gis import GIS\n",
    "import os\n",
    "import json\n",
    "\n",
    "try: \n",
    "    from BeautifulSoup import BeautifulSoup\n",
    "except ImportError:\n",
    "    from bs4 import BeautifulSoup\n",
    "\n",
    "# https://volderette.de/jupyter-notebook-tip-multiple-outputs/\n",
    "from IPython.core.interactiveshell import InteractiveShell\n",
    "InteractiveShell.ast_node_interactivity = \"all\""
   ]
  },
  {
   "cell_type": "markdown",
   "metadata": {},
   "source": [
    "### User parameters"
   ]
  },
  {
   "cell_type": "code",
   "execution_count": 2,
   "metadata": {},
   "outputs": [
    {
     "name": "stdout",
     "output_type": "stream",
     "text": [
      "C:\\Users\\L.GonzalezMorales\\Documents\\GitHub\\FIS4SDGs\\notebooks\\unsdDataManagement\n",
      "data inputs dir: ../../data/unsd/\n"
     ]
    }
   ],
   "source": [
    "dir_path = os.path.dirname(os.path.realpath('__file__'))\n",
    "print(dir_path)\n",
    "\n",
    "output_dir = r'../../data/unsd/'\n",
    "print('data inputs dir: ' + output_dir)"
   ]
  },
  {
   "cell_type": "markdown",
   "metadata": {},
   "source": [
    "To create a GIS object, pass the url and login credentials:"
   ]
  },
  {
   "cell_type": "code",
   "execution_count": 3,
   "metadata": {},
   "outputs": [
    {
     "name": "stdin",
     "output_type": "stream",
     "text": [
      "Username:  gonzalezmorales_undesa\n",
      "Password:  ··········\n"
     ]
    }
   ],
   "source": [
    "import getpass\n",
    "\n",
    "online_username = input('Username: ')\n",
    "online_password = getpass.getpass('Password: ')\n",
    "online_connection = \"https://www.arcgis.com\"\n",
    "\n",
    "\n",
    "gis = GIS(online_connection, \n",
    "          online_username, \n",
    "          online_password)"
   ]
  },
  {
   "cell_type": "markdown",
   "metadata": {},
   "source": [
    "### Open data groups to search from"
   ]
  },
  {
   "cell_type": "code",
   "execution_count": 4,
   "metadata": {},
   "outputs": [
    {
     "data": {
      "text/plain": [
       "{'01': '66d8595b381440afb5e320a9265c3fe1',\n",
       " '02': '065896a584ca4ceb920fbdd3892bee05',\n",
       " '03': 'a5552356ddd04e6fb05905bf931e9e54',\n",
       " '04': 'c15ae34432ee46b49e3533668ae63d79',\n",
       " '05': '25e04240b93f498e96427bd633b98dbc',\n",
       " '06': 'e03793e08ed849be8e8b3abebf7ec983',\n",
       " '07': 'c7e2215476e14a1a84e6990934275048',\n",
       " '08': '1c8f53673a514f83bf932b1f8a1e9ec5',\n",
       " '09': '688e20ebffb74d43b40ffbf297e3cf72',\n",
       " '10': '2b3548cac5bf4cd2941d41751b45e992',\n",
       " '11': '2455ce9284e5452a855576aad64e5a75',\n",
       " '12': '713a738b9851495aba305483fba820ca',\n",
       " '13': 'a334f601cbce43e4b47b0de8aa1a5b38',\n",
       " '14': 'b3cc3fd1f58e46df8aaaa9616186f7c7',\n",
       " '15': '157221a102d3405eb15430aff5204ad8',\n",
       " '16': '4452219ecc1c4573a4384b6b05a9b5b5',\n",
       " '17': 'dd0676a1809b40309c1302e9ba64bd89'}"
      ]
     },
     "execution_count": 4,
     "metadata": {},
     "output_type": "execute_result"
    }
   ],
   "source": [
    "open_data_groups = {\n",
    "    '01' : '66d8595b381440afb5e320a9265c3fe1', # UNSD_SDG01\n",
    "    '02' : '065896a584ca4ceb920fbdd3892bee05', # UNSD_SDG02\n",
    "    '03' : 'a5552356ddd04e6fb05905bf931e9e54', # UNSD_SDG03\n",
    "    '04' : 'c15ae34432ee46b49e3533668ae63d79', # UNSD_SDG04\n",
    "    '05' : '25e04240b93f498e96427bd633b98dbc', # UNSD_SDG05\n",
    "    '06' : 'e03793e08ed849be8e8b3abebf7ec983', # UNSD_SDG06\n",
    "    '07' : 'c7e2215476e14a1a84e6990934275048', # UNSD_SDG07\n",
    "    '08' : '1c8f53673a514f83bf932b1f8a1e9ec5', # UNSD_SDG08\n",
    "    '09' : '688e20ebffb74d43b40ffbf297e3cf72', # UNSD_SDG09\n",
    "    '10' : '2b3548cac5bf4cd2941d41751b45e992', # UNSD_SDG10\n",
    "    '11' : '2455ce9284e5452a855576aad64e5a75', # UNSD_SDG11\n",
    "    '12' : '713a738b9851495aba305483fba820ca', # UNSD_SDG12\n",
    "    '13' : 'a334f601cbce43e4b47b0de8aa1a5b38', # UNSD_SDG13\n",
    "    '14' : 'b3cc3fd1f58e46df8aaaa9616186f7c7', # UNSD_SDG14\n",
    "    '15' : '157221a102d3405eb15430aff5204ad8', # UNSD_SDG15\n",
    "    '16' : '4452219ecc1c4573a4384b6b05a9b5b5', # UNSD_SDG16\n",
    "    '17' : 'dd0676a1809b40309c1302e9ba64bd89', # UNSD_SDG17\n",
    "}\n",
    "\n",
    "open_data_groups"
   ]
  },
  {
   "cell_type": "code",
   "execution_count": 13,
   "metadata": {},
   "outputs": [
    {
     "data": {
      "text/plain": [
       "{'seriesCode': 'SI_POV_EMP1',\n",
       " 'seriesName': 'Employed population below international poverty line  by sex and age (%)',\n",
       " 'release': '2019.Q1.G.03',\n",
       " 'id': 'e8e11539dd9a4293b502b076d041133d',\n",
       " 'owner': 'unstats_admin',\n",
       " 'created': 1560397341000,\n",
       " 'modified': 1560542265180,\n",
       " 'title': 'Indicator 1.1.1: Employed population below international poverty line, by sex and age (percent)',\n",
       " 'type': 'Feature Service',\n",
       " 'tags': ['poverty line',\n",
       "  'poverty',\n",
       "  'standard of living',\n",
       "  'basic needs',\n",
       "  'decent work',\n",
       "  '2019.Q1.G.03'],\n",
       " 'url': 'https://services7.arcgis.com/gp50Ao2knMlOM89z/arcgis/rest/services/SI_POV_EMP1_1_1_1_2019Q1G03/FeatureServer'}"
      ]
     },
     "execution_count": 13,
     "metadata": {},
     "output_type": "execute_result"
    }
   ],
   "source": [
    "layer_info = []\n",
    "\n",
    "for k, group_id in open_data_groups.items():\n",
    "    \n",
    "    d1 = {}\n",
    "    d1['goal'] = int(k)\n",
    "    d1['id'] = group_id\n",
    "    d1['series'] = []\n",
    "\n",
    "    group = gis.groups.get(group_id)\n",
    "    group_content = group.content()\n",
    "    for item in group_content:\n",
    "        \n",
    "        if item['owner'] == 'unstats_admin':\n",
    "            d2 = {}            \n",
    "            \n",
    "            description = item['description']\n",
    "            parsed_description = BeautifulSoup(description)\n",
    "            \n",
    "            if parsed_description.ul:\n",
    "                description_items = parsed_description.ul.find_all('li', recursive=False)\n",
    "            \n",
    "                d2['seriesCode'] = description_items[1].text.split(\": \",1)[1]\n",
    "                d2['seriesName'] = description_items[0].text.split(\": \",1)[1]\n",
    "                d2['release'] = description_items[2].text.split(\": \",1)[1]\n",
    "                \n",
    "            d2['id'] = item['id']\n",
    "            d2['owner'] = item['owner']\n",
    "            d2['created'] = item['created']\n",
    "            d2['modified'] = item['modified']\n",
    "            d2['title'] = item['title']\n",
    "            d2['type'] = item['type']\n",
    "            d2['tags'] = item['tags']\n",
    "            d2['url'] = item['url']\n",
    "\n",
    "            d1['series'].append(d2)\n",
    "    layer_info.append(d1)\n",
    "\n",
    "layer_info[0]['series'][0]"
   ]
  },
  {
   "cell_type": "code",
   "execution_count": 14,
   "metadata": {},
   "outputs": [],
   "source": [
    "with open(output_dir + 'unsd_catalogue.json', 'w') as f:\n",
    "    json.dump(layer_info, f, indent=4)\n"
   ]
  },
  {
   "cell_type": "code",
   "execution_count": null,
   "metadata": {},
   "outputs": [],
   "source": []
  }
 ],
 "metadata": {
  "kernelspec": {
   "display_name": "Python 3",
   "language": "python",
   "name": "python3"
  },
  "language_info": {
   "codemirror_mode": {
    "name": "ipython",
    "version": 3
   },
   "file_extension": ".py",
   "mimetype": "text/x-python",
   "name": "python",
   "nbconvert_exporter": "python",
   "pygments_lexer": "ipython3",
   "version": "3.6.8"
  }
 },
 "nbformat": 4,
 "nbformat_minor": 2
}
